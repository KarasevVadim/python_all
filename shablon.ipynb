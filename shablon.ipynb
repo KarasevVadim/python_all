{
 "cells": [
  {
   "cell_type": "markdown",
   "metadata": {},
   "source": [
    "pip install pymssql \n",
    "\n"
   ]
  },
  {
   "cell_type": "code",
   "execution_count": 1,
   "metadata": {},
   "outputs": [],
   "source": [
    "import pandas as pd\n",
    "import pymssql "
   ]
  },
  {
   "cell_type": "code",
   "execution_count": 2,
   "metadata": {},
   "outputs": [],
   "source": [
    "server=\"hw-dev-sql-02\"\n",
    "base=\"DEV_upp_nm82_2011_powerbi\""
   ]
  },
  {
   "cell_type": "code",
   "execution_count": 3,
   "metadata": {},
   "outputs": [],
   "source": [
    "sql=\"\"\"\n",
    "SELECT CAST(_Active AS int) AS Активность\n",
    ", _LineNo AS НомерСтроки\n",
    ", CAST(_RecorderRRef AS uniqueidentifier) AS Регистратор\n",
    ", DATEADD([YEAR], -2000, _Period) AS Период\n",
    ", CAST(_Fld22958_RRRef AS uniqueidentifier) AS БанковскийСчетКасса\n",
    ", CAST(_Fld22959RRef AS uniqueidentifier) AS ВидДенежныхСредств\n",
    ", CAST(_Fld22960RRef AS uniqueidentifier) AS ПриходРасход\n",
    ", CAST(_Fld22961RRef AS uniqueidentifier) AS СтатьяДвиженияДенежныхСредств\n",
    ", CAST(_Fld22962_RRRef AS uniqueidentifier) AS ДокументДвижения\n",
    ", CAST(_Fld22963_RRRef AS uniqueidentifier) AS Контрагент\n",
    ", CAST(_Fld22964RRef AS uniqueidentifier) AS ДоговорКонтрагента\n",
    ", CAST(_Fld22965_RRRef AS uniqueidentifier) AS Сделка\n",
    ", CAST(_Fld22966RRef AS uniqueidentifier) AS Проект\n",
    ", CAST(_Fld22967_RRRef AS uniqueidentifier) AS ДокументПланированияПлатежа\n",
    ", CAST(_Fld22968_RRRef AS uniqueidentifier) AS ДокументРасчетовСКонтрагентом\n",
    ", CAST(_Fld22969RRef AS uniqueidentifier) AS Организация\n",
    ", CAST(_Fld22970RRef AS uniqueidentifier) AS ЦФО\n",
    ", CAST(_Fld22971RRef AS uniqueidentifier) AS СтатьяОборотовПоБюджетам\n",
    ", _Fld22972 AS Сумма\n",
    ", _Fld22973 AS СуммаУпр\n",
    "FROM _AccumRg22957\n",
    "\n",
    "\"\"\""
   ]
  },
  {
   "cell_type": "code",
   "execution_count": 5,
   "metadata": {},
   "outputs": [],
   "source": [
    "def read_sql(sql,base, serv):\n",
    "    with pymssql.connect(server=serv ,database = base ,charset = 'cp1251') as  conn:\n",
    "                      \n",
    "    \n",
    "        cursor = conn.cursor()  \n",
    "        df = pd.read_sql( sql,conn)\n",
    "    return df"
   ]
  },
  {
   "cell_type": "markdown",
   "metadata": {},
   "source": [
    "conn.close()"
   ]
  },
  {
   "cell_type": "code",
   "execution_count": 8,
   "metadata": {},
   "outputs": [],
   "source": [
    "df=read_sql(sql,base, server)\n"
   ]
  },
  {
   "cell_type": "code",
   "execution_count": 9,
   "metadata": {},
   "outputs": [
    {
     "data": {
      "text/html": [
       "<div>\n",
       "<style scoped>\n",
       "    .dataframe tbody tr th:only-of-type {\n",
       "        vertical-align: middle;\n",
       "    }\n",
       "\n",
       "    .dataframe tbody tr th {\n",
       "        vertical-align: top;\n",
       "    }\n",
       "\n",
       "    .dataframe thead th {\n",
       "        text-align: right;\n",
       "    }\n",
       "</style>\n",
       "<table border=\"1\" class=\"dataframe\">\n",
       "  <thead>\n",
       "    <tr style=\"text-align: right;\">\n",
       "      <th></th>\n",
       "      <th>Период</th>\n",
       "    </tr>\n",
       "  </thead>\n",
       "  <tbody>\n",
       "    <tr>\n",
       "      <th>0</th>\n",
       "      <td>2019-02-12 23:59:59</td>\n",
       "    </tr>\n",
       "    <tr>\n",
       "      <th>1</th>\n",
       "      <td>2019-03-25 23:59:59</td>\n",
       "    </tr>\n",
       "    <tr>\n",
       "      <th>2</th>\n",
       "      <td>2016-01-13 23:59:59</td>\n",
       "    </tr>\n",
       "    <tr>\n",
       "      <th>3</th>\n",
       "      <td>2014-04-08 23:59:59</td>\n",
       "    </tr>\n",
       "    <tr>\n",
       "      <th>4</th>\n",
       "      <td>2019-05-23 23:59:59</td>\n",
       "    </tr>\n",
       "    <tr>\n",
       "      <th>...</th>\n",
       "      <td>...</td>\n",
       "    </tr>\n",
       "    <tr>\n",
       "      <th>1898714</th>\n",
       "      <td>2017-10-02 08:53:22</td>\n",
       "    </tr>\n",
       "    <tr>\n",
       "      <th>1898715</th>\n",
       "      <td>2017-06-16 08:55:34</td>\n",
       "    </tr>\n",
       "    <tr>\n",
       "      <th>1898716</th>\n",
       "      <td>2017-06-23 09:41:33</td>\n",
       "    </tr>\n",
       "    <tr>\n",
       "      <th>1898717</th>\n",
       "      <td>2017-06-26 17:09:25</td>\n",
       "    </tr>\n",
       "    <tr>\n",
       "      <th>1898718</th>\n",
       "      <td>2018-05-08 17:24:49</td>\n",
       "    </tr>\n",
       "  </tbody>\n",
       "</table>\n",
       "<p>1898719 rows × 1 columns</p>\n",
       "</div>"
      ],
      "text/plain": [
       "                     Период\n",
       "0       2019-02-12 23:59:59\n",
       "1       2019-03-25 23:59:59\n",
       "2       2016-01-13 23:59:59\n",
       "3       2014-04-08 23:59:59\n",
       "4       2019-05-23 23:59:59\n",
       "...                     ...\n",
       "1898714 2017-10-02 08:53:22\n",
       "1898715 2017-06-16 08:55:34\n",
       "1898716 2017-06-23 09:41:33\n",
       "1898717 2017-06-26 17:09:25\n",
       "1898718 2018-05-08 17:24:49\n",
       "\n",
       "[1898719 rows x 1 columns]"
      ]
     },
     "execution_count": 9,
     "metadata": {},
     "output_type": "execute_result"
    }
   ],
   "source": [
    "df"
   ]
  },
  {
   "cell_type": "code",
   "execution_count": null,
   "metadata": {},
   "outputs": [],
   "source": []
  }
 ],
 "metadata": {
  "kernelspec": {
   "display_name": "Python 3",
   "language": "python",
   "name": "python3"
  },
  "language_info": {
   "codemirror_mode": {
    "name": "ipython",
    "version": 3
   },
   "file_extension": ".py",
   "mimetype": "text/x-python",
   "name": "python",
   "nbconvert_exporter": "python",
   "pygments_lexer": "ipython3",
   "version": "3.7.6"
  }
 },
 "nbformat": 4,
 "nbformat_minor": 4
}
