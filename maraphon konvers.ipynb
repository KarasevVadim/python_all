{
 "cells": [
  {
   "cell_type": "markdown",
   "metadata": {},
   "source": [
    "pip install pymssql \n",
    "\n"
   ]
  },
  {
   "cell_type": "code",
   "execution_count": 141,
   "metadata": {},
   "outputs": [],
   "source": [
    "import pandas as pd\n",
    "import pymssql "
   ]
  },
  {
   "cell_type": "code",
   "execution_count": 142,
   "metadata": {},
   "outputs": [],
   "source": [
    "server=\"SQL-retail2.nikamed.local\"\n",
    "base=\"Retail2_shops\""
   ]
  },
  {
   "cell_type": "code",
   "execution_count": 310,
   "metadata": {},
   "outputs": [],
   "source": [
    "sql=\"\"\"\n",
    "with mag_iskl as (\n",
    "SELECT CAST(_IDRRef AS uniqueidentifier) AS Ссылка, --исключение техн склада\n",
    "_IDRRef, \n",
    "_Code AS Код\n",
    "FROM _Reference10\n",
    "where _Code='0-002'\n",
    "),\n",
    "--------------------------------------исх продажи-----------------------\n",
    "sales_ish as (\n",
    "select \n",
    "       cast(dateadd(year, -2000, d21._date_time) as date) as Дата , \n",
    "       cast(d21._number as varchar(20))+'_'+ cast(dateadd(year, -2000, d21._date_time) as varchar(50)) as  Num4ККМ,  \n",
    "       iif(e._EnumOrder=1,-1,1) as 'ВидОперации'\n",
    "       ,iif(e._EnumOrder=1, -d21t._Fld6384, d21t._Fld6384 ) as 'Количество'\n",
    "       ,iif(e._EnumOrder=1, -d21t._Fld6397, d21t._Fld6397) as 'Сумма'\n",
    "              , cast(r10._idrref as uniqueidentifier) as 'ccМагазин'\n",
    "       , iif(r2_10._Code is null, cast(r10._idrref as uniqueidentifier), \n",
    "                                  cast(r2_10._idrref as uniqueidentifier) ) as 'ccМагазинМотивационный'\n",
    "from _Document21_VT6378 d21t\n",
    "left outer join _Document21 d21 on d21t._Document21_IDRRef = d21._IDRRef /*исх чек*/\n",
    "LEFT OUTER JOIN _reference47 r47 ON d21._Fld6331RRef = r47._idrref /*вид документа*/\n",
    "LEFT OUTER JOIN _Enum352 e ON d21._Fld6333RRef = e._idrref /*вид документа в перечислениях чека ккм - 0-продажа, 1-возврат*/\n",
    "left outer join _Reference10 r10 on d21._Fld6339RRef = r10._idrref /*shop*/\n",
    "left outer join  _Document21 d2_21 on d21._Fld6353RRef=d2_21._idrref /*поиск мотив маг*/\n",
    "left outer join _Reference10 r2_10 on d2_21._Fld6339RRef = r2_10._idrref /*shop*/\n",
    "where d21._marked = 0 and d21._Posted = 1\n",
    "and d21._date_time >= '08.01.4021' --and d21._date_time < '09.01.4021'\n",
    "union all\n",
    "select \n",
    "       cast(dateadd(year, -2000, d._date_time) as date) as 'Дата', \n",
    "        cast(d._number as varchar(20))+'_'+ cast(dateadd(year, -2000, d._date_time) as varchar(50)) as  Num4ККМ,      \n",
    "        -1\n",
    "       , -dt._Fld3984 as 'Количество'\n",
    "       , -dt._Fld3988 as 'СуммаЧека'\n",
    "       , cast(r10._idrref as uniqueidentifier) as 'ccМагазин'\n",
    "       , iif(r2_10._Code is null, cast(r10._idrref as uniqueidentifier), cast(r2_10._idrref as uniqueidentifier) ) as 'ccМагазинМотивационный'\n",
    "from _Document216_VT3980 dt\n",
    "left outer join _Document216 d on dt._Document216_IDRRef = d._IDRRef /*исх возвратный чек*/\n",
    "left outer join _Reference10 r10 on d._Fld3950RRef = r10._idrref /*shop*/\n",
    "left outer join  _Reference172 r172  on dt._Fld4001RRef = r172._idrref\n",
    "left outer join  _Reference23 r23  on dt._Fld3982RRef = r23._idrref\n",
    "left outer join _Reference131 r131 on d._Fld11137RRef= r131._idrref --  склады\n",
    "left outer join _Reference10 r2_10 on r131._Fld2686RRef = r2_10._idrref /*shop к складу*/\n",
    "where d._marked = 0 and d._Posted = 1\n",
    "and d._date_time >= '08.01.4021' --and d._date_time  < '09.01.4021'\n",
    "\n",
    "), \n",
    "-------------суммарные продажи------------------------------------ \n",
    "sales_sum2 as (\n",
    "\n",
    "SELECT\n",
    "\n",
    "Дата as date_ss, \n",
    "sum(Сумма)  as Summa, \n",
    "ccМагазин, \n",
    "ccМагазинМотивационный, \n",
    "ВидОперации,\n",
    "Num4ККМ \n",
    "\n",
    "FROM sales_ish\n",
    "\n",
    "group by Дата, ccМагазин, ccМагазинМотивационный, ВидОперации, Num4ККМ\n",
    "\n",
    "),\n",
    "-------------c кол чеков------------------------------------ \n",
    "sales_sum as (\n",
    "SELECT date_ss,\n",
    "\n",
    "ccМагазин, \n",
    "ccМагазинМотивационный,\n",
    "sum(Summa) as Summa, \n",
    "sum(ВидОперации) as Kol4\n",
    "FROM sales_sum2\n",
    "\n",
    "group by date_ss, ccМагазин, ccМагазинМотивационный\n",
    "\n",
    "),\n",
    "-----------трафиk группировка-----------------------------\n",
    "tr_gr as (\n",
    "SELECT cast(dateadd(year,-2000,i._fld10076) AS date) AS date_ii,\n",
    "\t\t sum(i._fld10077) AS Трафик,\n",
    "\t\t cast( r._Fld2907RRef AS uniqueidentifier) AS cсМагазин\n",
    "FROM _InfoRg10074 i \n",
    "\n",
    "left outer JOIN _reference142 r ON i._Fld10075RRef = r._IDRRef \n",
    "left outer JOIN mag_iskl mi ON r._Fld2907RRef=mi._IDRRef\n",
    "\n",
    "WHERE i._fld10076 >= '08.01.4021'\n",
    "--\t\tAND i._fld10076 < '09.01.4021'\n",
    "\t\tAND i._fld10077 > 0\n",
    "\t\tAND mi._IDRRef is  null\n",
    "GROUP BY  cast(dateadd(year, -2000, i._fld10076) AS date) , cast( r._Fld2907RRef AS uniqueidentifier)\n",
    "),\n",
    "---------------------------------------------------\n",
    "--select * from tr_gr\n",
    "traf_ich as (\n",
    "SELECT tab.date_ii, \n",
    "    tab.Трафик, \n",
    "    tab.cсМагазин, \n",
    "    iif(sum(sales_sum.Summa) is null,0,sum(sales_sum.Summa)) as Summa_ii, \n",
    "    sum(iif(Kol4 is null,0,Kol4)) as Kol4\n",
    "    \n",
    "    \n",
    "FROM tr_gr tab\n",
    "\n",
    "left outer join sales_sum on sales_sum.date_ss=tab.date_ii and sales_sum.ccМагазин=tab.cсМагазин\n",
    "--!!!!!!!!!!!!!!!!!!!!!!!!!!!!!!!!!!!!!!!!!!!!!!!!!!!!!!!!!!!!!!!!!!!!!!!!!!\n",
    "WHERE tab.date_ii >= '08.01.2021' --and tab.date_ii < '09.01.2021'\n",
    "--!!!!!!!!!!!!!!!!!!!!!!!!!!!!!!!!!!!!!!!!!!!!!!!!!!!!!!!!!!!!!!!!!!!!!!!!!!\n",
    "group by tab.date_ii , tab.cсМагазин, tab.Трафик\n",
    ")\n",
    "---------------------------------\n",
    "select tab.date_ii ,\n",
    "    concat(left(tab.date_ii,8),'01') As period,\n",
    "    tab.Трафик,\n",
    "    tab.cсМагазин,\n",
    "    tab.Summa_ii,\n",
    "    tab.Kol4,\n",
    "    iif(tab.Kol4=0,0,tab.Summa_ii/tab.Kol4)  as sr4,\n",
    "    iif(tab.Трафик=0,0,tab.Kol4/tab.Трафик)  as konv\n",
    "    \n",
    "    from traf_ich as tab\n",
    "    \n",
    "\n",
    "\"\"\""
   ]
  },
  {
   "cell_type": "code",
   "execution_count": null,
   "metadata": {},
   "outputs": [],
   "source": []
  },
  {
   "cell_type": "code",
   "execution_count": 311,
   "metadata": {},
   "outputs": [],
   "source": [
    "def read_sql(sql,base, serv):\n",
    "    #with pymssql.connect(server=serv ,database = base ,charset =  'cp1251') as  conn:\n",
    "    with pymssql.connect(server=serv ,charset =  'cp1251',database = base ) as  conn:                  \n",
    "    \n",
    "        cursor = conn.cursor()  \n",
    "        df = pd.read_sql( sql,conn)\n",
    "    return df"
   ]
  },
  {
   "cell_type": "code",
   "execution_count": 312,
   "metadata": {},
   "outputs": [
    {
     "name": "stdout",
     "output_type": "stream",
     "text": [
      "Wall time: 3.83 s\n"
     ]
    }
   ],
   "source": [
    "%%time\n",
    "df_tr=read_sql(sql,base, server)"
   ]
  },
  {
   "cell_type": "code",
   "execution_count": 313,
   "metadata": {},
   "outputs": [
    {
     "data": {
      "text/html": [
       "<div>\n",
       "<style scoped>\n",
       "    .dataframe tbody tr th:only-of-type {\n",
       "        vertical-align: middle;\n",
       "    }\n",
       "\n",
       "    .dataframe tbody tr th {\n",
       "        vertical-align: top;\n",
       "    }\n",
       "\n",
       "    .dataframe thead th {\n",
       "        text-align: right;\n",
       "    }\n",
       "</style>\n",
       "<table border=\"1\" class=\"dataframe\">\n",
       "  <thead>\n",
       "    <tr style=\"text-align: right;\">\n",
       "      <th></th>\n",
       "      <th>date_ii</th>\n",
       "      <th>period</th>\n",
       "      <th>Трафик</th>\n",
       "      <th>cсМагазин</th>\n",
       "      <th>Summa_ii</th>\n",
       "      <th>Kol4</th>\n",
       "      <th>sr4</th>\n",
       "      <th>konv</th>\n",
       "    </tr>\n",
       "  </thead>\n",
       "  <tbody>\n",
       "    <tr>\n",
       "      <th>0</th>\n",
       "      <td>2021-08-08</td>\n",
       "      <td>2021-08-01</td>\n",
       "      <td>33.0</td>\n",
       "      <td>11008787-72d8-8824-11de-d377741509df</td>\n",
       "      <td>96393.0</td>\n",
       "      <td>15</td>\n",
       "      <td>6426.200000</td>\n",
       "      <td>0.454545</td>\n",
       "    </tr>\n",
       "    <tr>\n",
       "      <th>1</th>\n",
       "      <td>2021-08-03</td>\n",
       "      <td>2021-08-01</td>\n",
       "      <td>54.0</td>\n",
       "      <td>1500588d-015d-0b43-11e9-ca54d42f173e</td>\n",
       "      <td>73303.0</td>\n",
       "      <td>8</td>\n",
       "      <td>9162.875000</td>\n",
       "      <td>0.148148</td>\n",
       "    </tr>\n",
       "    <tr>\n",
       "      <th>2</th>\n",
       "      <td>2021-08-01</td>\n",
       "      <td>2021-08-01</td>\n",
       "      <td>65.0</td>\n",
       "      <td>4a3c58b9-7492-28df-11e6-240486996548</td>\n",
       "      <td>99125.0</td>\n",
       "      <td>20</td>\n",
       "      <td>4956.250000</td>\n",
       "      <td>0.307692</td>\n",
       "    </tr>\n",
       "    <tr>\n",
       "      <th>3</th>\n",
       "      <td>2021-08-03</td>\n",
       "      <td>2021-08-01</td>\n",
       "      <td>59.0</td>\n",
       "      <td>4a3c988b-7492-28df-11e5-6cc2b15a7e3a</td>\n",
       "      <td>52978.0</td>\n",
       "      <td>11</td>\n",
       "      <td>4816.181818</td>\n",
       "      <td>0.186441</td>\n",
       "    </tr>\n",
       "    <tr>\n",
       "      <th>4</th>\n",
       "      <td>2021-09-29</td>\n",
       "      <td>2021-09-01</td>\n",
       "      <td>34.0</td>\n",
       "      <td>4a3c30ae-7492-28df-11e8-5a887d4829b7</td>\n",
       "      <td>90030.0</td>\n",
       "      <td>14</td>\n",
       "      <td>6430.714285</td>\n",
       "      <td>0.411765</td>\n",
       "    </tr>\n",
       "    <tr>\n",
       "      <th>...</th>\n",
       "      <td>...</td>\n",
       "      <td>...</td>\n",
       "      <td>...</td>\n",
       "      <td>...</td>\n",
       "      <td>...</td>\n",
       "      <td>...</td>\n",
       "      <td>...</td>\n",
       "      <td>...</td>\n",
       "    </tr>\n",
       "    <tr>\n",
       "      <th>12384</th>\n",
       "      <td>2021-08-03</td>\n",
       "      <td>2021-08-01</td>\n",
       "      <td>150.0</td>\n",
       "      <td>1500c38c-015d-0443-11e9-5a09d29f9215</td>\n",
       "      <td>112188.0</td>\n",
       "      <td>19</td>\n",
       "      <td>5904.631578</td>\n",
       "      <td>0.126667</td>\n",
       "    </tr>\n",
       "    <tr>\n",
       "      <th>12385</th>\n",
       "      <td>2021-09-02</td>\n",
       "      <td>2021-09-01</td>\n",
       "      <td>79.0</td>\n",
       "      <td>1500b98d-015d-002a-11ea-0a1f62408fe9</td>\n",
       "      <td>144715.0</td>\n",
       "      <td>22</td>\n",
       "      <td>6577.954545</td>\n",
       "      <td>0.278481</td>\n",
       "    </tr>\n",
       "    <tr>\n",
       "      <th>12386</th>\n",
       "      <td>2021-09-24</td>\n",
       "      <td>2021-09-01</td>\n",
       "      <td>62.0</td>\n",
       "      <td>4a3ccdba-7492-28df-11e4-34cd06df5667</td>\n",
       "      <td>198143.0</td>\n",
       "      <td>29</td>\n",
       "      <td>6832.517241</td>\n",
       "      <td>0.467742</td>\n",
       "    </tr>\n",
       "    <tr>\n",
       "      <th>12387</th>\n",
       "      <td>2021-09-21</td>\n",
       "      <td>2021-09-01</td>\n",
       "      <td>29.0</td>\n",
       "      <td>11008787-72d8-8824-11de-d377741509df</td>\n",
       "      <td>84690.0</td>\n",
       "      <td>12</td>\n",
       "      <td>7057.500000</td>\n",
       "      <td>0.413793</td>\n",
       "    </tr>\n",
       "    <tr>\n",
       "      <th>12388</th>\n",
       "      <td>2021-09-12</td>\n",
       "      <td>2021-09-01</td>\n",
       "      <td>43.0</td>\n",
       "      <td>1500968d-fa5d-1787-11e9-f5758aa8bcda</td>\n",
       "      <td>75620.0</td>\n",
       "      <td>9</td>\n",
       "      <td>8402.222222</td>\n",
       "      <td>0.209302</td>\n",
       "    </tr>\n",
       "  </tbody>\n",
       "</table>\n",
       "<p>12389 rows × 8 columns</p>\n",
       "</div>"
      ],
      "text/plain": [
       "          date_ii      period  Трафик                             cсМагазин  \\\n",
       "0      2021-08-08  2021-08-01    33.0  11008787-72d8-8824-11de-d377741509df   \n",
       "1      2021-08-03  2021-08-01    54.0  1500588d-015d-0b43-11e9-ca54d42f173e   \n",
       "2      2021-08-01  2021-08-01    65.0  4a3c58b9-7492-28df-11e6-240486996548   \n",
       "3      2021-08-03  2021-08-01    59.0  4a3c988b-7492-28df-11e5-6cc2b15a7e3a   \n",
       "4      2021-09-29  2021-09-01    34.0  4a3c30ae-7492-28df-11e8-5a887d4829b7   \n",
       "...           ...         ...     ...                                   ...   \n",
       "12384  2021-08-03  2021-08-01   150.0  1500c38c-015d-0443-11e9-5a09d29f9215   \n",
       "12385  2021-09-02  2021-09-01    79.0  1500b98d-015d-002a-11ea-0a1f62408fe9   \n",
       "12386  2021-09-24  2021-09-01    62.0  4a3ccdba-7492-28df-11e4-34cd06df5667   \n",
       "12387  2021-09-21  2021-09-01    29.0  11008787-72d8-8824-11de-d377741509df   \n",
       "12388  2021-09-12  2021-09-01    43.0  1500968d-fa5d-1787-11e9-f5758aa8bcda   \n",
       "\n",
       "       Summa_ii  Kol4          sr4      konv  \n",
       "0       96393.0    15  6426.200000  0.454545  \n",
       "1       73303.0     8  9162.875000  0.148148  \n",
       "2       99125.0    20  4956.250000  0.307692  \n",
       "3       52978.0    11  4816.181818  0.186441  \n",
       "4       90030.0    14  6430.714285  0.411765  \n",
       "...         ...   ...          ...       ...  \n",
       "12384  112188.0    19  5904.631578  0.126667  \n",
       "12385  144715.0    22  6577.954545  0.278481  \n",
       "12386  198143.0    29  6832.517241  0.467742  \n",
       "12387   84690.0    12  7057.500000  0.413793  \n",
       "12388   75620.0     9  8402.222222  0.209302  \n",
       "\n",
       "[12389 rows x 8 columns]"
      ]
     },
     "execution_count": 313,
     "metadata": {},
     "output_type": "execute_result"
    }
   ],
   "source": [
    "df_tr"
   ]
  },
  {
   "cell_type": "code",
   "execution_count": 261,
   "metadata": {},
   "outputs": [
    {
     "name": "stdout",
     "output_type": "stream",
     "text": [
      "<class 'pandas.core.frame.DataFrame'>\n",
      "RangeIndex: 5902 entries, 0 to 5901\n",
      "Data columns (total 7 columns):\n",
      " #   Column     Non-Null Count  Dtype  \n",
      "---  ------     --------------  -----  \n",
      " 0   date_ii    5902 non-null   object \n",
      " 1   Трафик     5902 non-null   float64\n",
      " 2   cсМагазин  5902 non-null   object \n",
      " 3   Summa_ii   5902 non-null   float64\n",
      " 4   Kol4       5902 non-null   int64  \n",
      " 5   sr4        5902 non-null   float64\n",
      " 6   konv       5902 non-null   float64\n",
      "dtypes: float64(4), int64(1), object(2)\n",
      "memory usage: 322.9+ KB\n"
     ]
    }
   ],
   "source": [
    "df_tr.info()"
   ]
  },
  {
   "cell_type": "markdown",
   "metadata": {},
   "source": [
    "df_tr['Summa_ii']=df_tr['Summa_ii'].fillna(0)\n",
    "df_tr.info()"
   ]
  },
  {
   "cell_type": "code",
   "execution_count": 253,
   "metadata": {},
   "outputs": [
    {
     "data": {
      "text/plain": [
       "531986938.41999996"
      ]
     },
     "execution_count": 253,
     "metadata": {},
     "output_type": "execute_result"
    }
   ],
   "source": [
    "sum(df_tr['Summa_ii'])"
   ]
  },
  {
   "cell_type": "code",
   "execution_count": 254,
   "metadata": {},
   "outputs": [
    {
     "data": {
      "text/plain": [
       "373766.0"
      ]
     },
     "execution_count": 254,
     "metadata": {},
     "output_type": "execute_result"
    }
   ],
   "source": [
    "sum(df_tr['Трафик'])\n"
   ]
  },
  {
   "cell_type": "code",
   "execution_count": 255,
   "metadata": {},
   "outputs": [
    {
     "data": {
      "text/plain": [
       "87299"
      ]
     },
     "execution_count": 255,
     "metadata": {},
     "output_type": "execute_result"
    }
   ],
   "source": [
    "sum(df_tr['Kol4'])"
   ]
  },
  {
   "cell_type": "code",
   "execution_count": 256,
   "metadata": {},
   "outputs": [
    {
     "name": "stdout",
     "output_type": "stream",
     "text": [
      "<class 'pandas.core.frame.DataFrame'>\n",
      "RangeIndex: 5902 entries, 0 to 5901\n",
      "Data columns (total 7 columns):\n",
      " #   Column     Non-Null Count  Dtype  \n",
      "---  ------     --------------  -----  \n",
      " 0   date_ii    5902 non-null   object \n",
      " 1   Трафик     5902 non-null   float64\n",
      " 2   cсМагазин  5902 non-null   object \n",
      " 3   Summa_ii   5902 non-null   float64\n",
      " 4   Kol4       5902 non-null   int64  \n",
      " 5   sr4        5902 non-null   float64\n",
      " 6   konv       5902 non-null   float64\n",
      "dtypes: float64(4), int64(1), object(2)\n",
      "memory usage: 322.9+ KB\n"
     ]
    }
   ],
   "source": [
    "df_tr.info()"
   ]
  },
  {
   "cell_type": "code",
   "execution_count": 320,
   "metadata": {},
   "outputs": [],
   "source": [
    "sql=\"\"\"\n",
    "--------------план конверсии---------------------\n",
    "SELECT cast(dateadd(year,\n",
    "\t\t -2000,\n",
    "\t\t _Fld7062) AS date) AS Период,\n",
    "\t\t (d_v._Fld7072/100) AS Конверсия,\n",
    "\t\t cast(d_v._Fld7071RRef AS uniqueidentifier) AS ссМагазин\n",
    "FROM _Document302_VT7069 d_v left outer\n",
    "JOIN _Document302 d\n",
    "\tON d_v._Document302_idrref = d._idrref\n",
    "WHERE d._Marked = 0\n",
    "\t\tAND d._Posted=1\n",
    "--!!!!!!!!!!!!!!!!!!!!!!!!!!!!!!!!!!!!!!!!!!!!!!!!!!!\n",
    "        and _Fld7062 = '4021-08-01'\n",
    "--!!!!!!!!!!!!!!!!!!!!!!!!!!!!!!!!!!!!!!!!!!!!!!!!!!!!\n",
    "\"\"\""
   ]
  },
  {
   "cell_type": "markdown",
   "metadata": {},
   "source": [
    "conn.close()"
   ]
  },
  {
   "cell_type": "code",
   "execution_count": 321,
   "metadata": {},
   "outputs": [
    {
     "name": "stdout",
     "output_type": "stream",
     "text": [
      "Wall time: 56 ms\n"
     ]
    }
   ],
   "source": [
    "%%time\n",
    "df=read_sql(sql,base, server)\n"
   ]
  },
  {
   "cell_type": "code",
   "execution_count": 322,
   "metadata": {},
   "outputs": [
    {
     "data": {
      "text/html": [
       "<div>\n",
       "<style scoped>\n",
       "    .dataframe tbody tr th:only-of-type {\n",
       "        vertical-align: middle;\n",
       "    }\n",
       "\n",
       "    .dataframe tbody tr th {\n",
       "        vertical-align: top;\n",
       "    }\n",
       "\n",
       "    .dataframe thead th {\n",
       "        text-align: right;\n",
       "    }\n",
       "</style>\n",
       "<table border=\"1\" class=\"dataframe\">\n",
       "  <thead>\n",
       "    <tr style=\"text-align: right;\">\n",
       "      <th></th>\n",
       "      <th>Период</th>\n",
       "      <th>Конверсия</th>\n",
       "      <th>ссМагазин</th>\n",
       "    </tr>\n",
       "  </thead>\n",
       "  <tbody>\n",
       "    <tr>\n",
       "      <th>0</th>\n",
       "      <td>2021-08-01</td>\n",
       "      <td>0.0</td>\n",
       "      <td>4a3ccdba-7492-28df-11e4-34cd06df5674</td>\n",
       "    </tr>\n",
       "    <tr>\n",
       "      <th>1</th>\n",
       "      <td>2021-08-01</td>\n",
       "      <td>0.0</td>\n",
       "      <td>4a3cd4b8-7492-28df-11e5-decf120e76ce</td>\n",
       "    </tr>\n",
       "    <tr>\n",
       "      <th>2</th>\n",
       "      <td>2021-08-01</td>\n",
       "      <td>0.0</td>\n",
       "      <td>4a3cb8ae-7492-28df-11e3-63e1be18ea68</td>\n",
       "    </tr>\n",
       "    <tr>\n",
       "      <th>3</th>\n",
       "      <td>2021-08-01</td>\n",
       "      <td>0.0</td>\n",
       "      <td>4a3cb8ae-7492-28df-11e3-63e1be18ea7a</td>\n",
       "    </tr>\n",
       "    <tr>\n",
       "      <th>4</th>\n",
       "      <td>2021-08-01</td>\n",
       "      <td>0.0</td>\n",
       "      <td>4a3c90b8-7492-28df-11e1-8e081c40ef1a</td>\n",
       "    </tr>\n",
       "  </tbody>\n",
       "</table>\n",
       "</div>"
      ],
      "text/plain": [
       "       Период  Конверсия                             ссМагазин\n",
       "0  2021-08-01        0.0  4a3ccdba-7492-28df-11e4-34cd06df5674\n",
       "1  2021-08-01        0.0  4a3cd4b8-7492-28df-11e5-decf120e76ce\n",
       "2  2021-08-01        0.0  4a3cb8ae-7492-28df-11e3-63e1be18ea68\n",
       "3  2021-08-01        0.0  4a3cb8ae-7492-28df-11e3-63e1be18ea7a\n",
       "4  2021-08-01        0.0  4a3c90b8-7492-28df-11e1-8e081c40ef1a"
      ]
     },
     "execution_count": 322,
     "metadata": {},
     "output_type": "execute_result"
    }
   ],
   "source": [
    "df.head()\n"
   ]
  },
  {
   "cell_type": "code",
   "execution_count": null,
   "metadata": {},
   "outputs": [],
   "source": []
  }
 ],
 "metadata": {
  "kernelspec": {
   "display_name": "Python 3",
   "language": "python",
   "name": "python3"
  },
  "language_info": {
   "codemirror_mode": {
    "name": "ipython",
    "version": 3
   },
   "file_extension": ".py",
   "mimetype": "text/x-python",
   "name": "python",
   "nbconvert_exporter": "python",
   "pygments_lexer": "ipython3",
   "version": "3.7.6"
  }
 },
 "nbformat": 4,
 "nbformat_minor": 4
}
