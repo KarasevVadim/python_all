{
 "cells": [
  {
   "cell_type": "markdown",
   "metadata": {},
   "source": [
    "pip install pymssql \n",
    "\n"
   ]
  },
  {
   "cell_type": "code",
   "execution_count": 141,
   "metadata": {},
   "outputs": [],
   "source": [
    "import pandas as pd\n",
    "import pymssql "
   ]
  },
  {
   "cell_type": "code",
   "execution_count": 490,
   "metadata": {},
   "outputs": [],
   "source": [
    "server=\"SQL-retail2.nikamed.local\"\n",
    "base=\"Retail2_shops\""
   ]
  },
  {
   "cell_type": "code",
   "execution_count": 584,
   "metadata": {},
   "outputs": [],
   "source": [
    "sql=\"\"\"\n",
    "with mag_iskl as (\n",
    "SELECT CAST(_IDRRef AS uniqueidentifier) AS Ссылка, --исключение техн склада\n",
    "_IDRRef, \n",
    "_Code AS Код\n",
    "FROM _Reference10\n",
    "where _Code='0-002'\n",
    "),\n",
    "--------------------------------------исх продажи-----------------------\n",
    "sales_ish as (\n",
    "select \n",
    "       cast(dateadd(year, -2000, d21._date_time) as date) as Дата , \n",
    "       cast(d21._number as varchar(20))+'_'+ cast(dateadd(year, -2000, d21._date_time) as varchar(50)) as  Num4ККМ,  \n",
    "       iif(e._EnumOrder=1,-1,1) as 'ВидОперации'\n",
    "       ,iif(e._EnumOrder=1, -d21t._Fld6384, d21t._Fld6384 ) as 'Количество'\n",
    "       ,iif(e._EnumOrder=1, -d21t._Fld6397, d21t._Fld6397) as 'Сумма'\n",
    "              , cast(r10._idrref as uniqueidentifier) as 'ccМагазин'\n",
    "       , iif(r2_10._Code is null, cast(r10._idrref as uniqueidentifier), \n",
    "                                  cast(r2_10._idrref as uniqueidentifier) ) as 'ccМагазинМотивационный'\n",
    "from _Document21_VT6378 d21t\n",
    "left outer join _Document21 d21 on d21t._Document21_IDRRef = d21._IDRRef /*исх чек*/\n",
    "LEFT OUTER JOIN _reference47 r47 ON d21._Fld6331RRef = r47._idrref /*вид документа*/\n",
    "LEFT OUTER JOIN _Enum352 e ON d21._Fld6333RRef = e._idrref /*вид документа в перечислениях чека ккм - 0-продажа, 1-возврат*/\n",
    "left outer join _Reference10 r10 on d21._Fld6339RRef = r10._idrref /*shop*/\n",
    "left outer join  _Document21 d2_21 on d21._Fld6353RRef=d2_21._idrref /*поиск мотив маг*/\n",
    "left outer join _Reference10 r2_10 on d2_21._Fld6339RRef = r2_10._idrref /*shop*/\n",
    "where d21._marked = 0 and d21._Posted = 1\n",
    "and d21._date_time >= '08.01.4021' --and d21._date_time < '09.01.4021'\n",
    "union all\n",
    "select \n",
    "       cast(dateadd(year, -2000, d._date_time) as date) as 'Дата', \n",
    "        cast(d._number as varchar(20))+'_'+ cast(dateadd(year, -2000, d._date_time) as varchar(50)) as  Num4ККМ,      \n",
    "        -1\n",
    "       , -dt._Fld3984 as 'Количество'\n",
    "       , -dt._Fld3988 as 'СуммаЧека'\n",
    "       , cast(r10._idrref as uniqueidentifier) as 'ccМагазин'\n",
    "       , iif(r2_10._Code is null, cast(r10._idrref as uniqueidentifier), cast(r2_10._idrref as uniqueidentifier) ) as 'ccМагазинМотивационный'\n",
    "from _Document216_VT3980 dt\n",
    "left outer join _Document216 d on dt._Document216_IDRRef = d._IDRRef /*исх возвратный чек*/\n",
    "left outer join _Reference10 r10 on d._Fld3950RRef = r10._idrref /*shop*/\n",
    "left outer join  _Reference172 r172  on dt._Fld4001RRef = r172._idrref\n",
    "left outer join  _Reference23 r23  on dt._Fld3982RRef = r23._idrref\n",
    "left outer join _Reference131 r131 on d._Fld11137RRef= r131._idrref --  склады\n",
    "left outer join _Reference10 r2_10 on r131._Fld2686RRef = r2_10._idrref /*shop к складу*/\n",
    "where d._marked = 0 and d._Posted = 1\n",
    "and d._date_time >= '08.01.4021' --and d._date_time  < '09.01.4021'\n",
    "\n",
    "), \n",
    "-------------суммарные продажи------------------------------------ \n",
    "sales_sum2 as (\n",
    "\n",
    "SELECT\n",
    "\n",
    "Дата as date_ss, \n",
    "sum(Сумма)  as Summa, \n",
    "ccМагазин, \n",
    "ccМагазинМотивационный, \n",
    "ВидОперации,\n",
    "Num4ККМ \n",
    "\n",
    "FROM sales_ish\n",
    "\n",
    "group by Дата, ccМагазин, ccМагазинМотивационный, ВидОперации, Num4ККМ\n",
    "\n",
    "),\n",
    "-------------c кол чеков------------------------------------ \n",
    "sales_sum as (\n",
    "SELECT date_ss,\n",
    "\n",
    "ccМагазин, \n",
    "ccМагазинМотивационный,\n",
    "sum(Summa) as Summa, \n",
    "sum(ВидОперации) as Kol4\n",
    "FROM sales_sum2\n",
    "\n",
    "group by date_ss, ccМагазин, ccМагазинМотивационный\n",
    "\n",
    "),\n",
    "-----------трафиk группировка-----------------------------\n",
    "tr_gr as (\n",
    "SELECT cast(dateadd(year,-2000,i._fld10076) AS date) AS date_ii,\n",
    "\t\t sum(i._fld10077) AS Трафик,\n",
    "\t\t cast( r._Fld2907RRef AS uniqueidentifier) AS cсМагазин\n",
    "FROM _InfoRg10074 i \n",
    "\n",
    "left outer JOIN _reference142 r ON i._Fld10075RRef = r._IDRRef \n",
    "left outer JOIN mag_iskl mi ON r._Fld2907RRef=mi._IDRRef\n",
    "\n",
    "WHERE i._fld10076 >= '08.01.4021'\n",
    "--\t\tAND i._fld10076 < '09.01.4021'\n",
    "\t\tAND i._fld10077 > 0\n",
    "\t\tAND mi._IDRRef is  null\n",
    "GROUP BY  cast(dateadd(year, -2000, i._fld10076) AS date) , cast( r._Fld2907RRef AS uniqueidentifier)\n",
    "),\n",
    "---------------------------------------------------\n",
    "--select * from tr_gr\n",
    "traf_ich as (\n",
    "SELECT tab.date_ii, \n",
    "    tab.Трафик, \n",
    "    tab.cсМагазин, \n",
    "    iif(sum(sales_sum.Summa) is null,0,sum(sales_sum.Summa)) as Summa_ii, \n",
    "    sum(iif(Kol4 is null,0,Kol4)) as Kol4\n",
    "    \n",
    "    \n",
    "FROM tr_gr tab\n",
    "\n",
    "left outer join sales_sum on sales_sum.date_ss=tab.date_ii and sales_sum.ccМагазин=tab.cсМагазин\n",
    "--!!!!!!!!!!!!!!!!!!!!!!!!!!!!!!!!!!!!!!!!!!!!!!!!!!!!!!!!!!!!!!!!!!!!!!!!!!\n",
    "WHERE tab.date_ii >= '08.01.2021' --and tab.date_ii < '09.01.2021'\n",
    "--!!!!!!!!!!!!!!!!!!!!!!!!!!!!!!!!!!!!!!!!!!!!!!!!!!!!!!!!!!!!!!!!!!!!!!!!!!\n",
    "group by tab.date_ii , tab.cсМагазин, tab.Трафик\n",
    "),\n",
    "------------------сборка факт показателей---------------\n",
    "tab_fact as (\n",
    "select tab.date_ii ,\n",
    "    concat(left(tab.date_ii,8),'01') As period,\n",
    "    tab.Трафик,\n",
    "    tab.cсМагазин as ccShops,\n",
    "    tab.Summa_ii,\n",
    "    tab.Kol4,\n",
    "    iif(tab.Kol4=0,0,tab.Summa_ii/tab.Kol4)  as sr4,\n",
    "    iif(tab.Трафик=0,0,tab.Kol4/tab.Трафик)  as konv\n",
    "    \n",
    "    from traf_ich as tab\n",
    "),    \n",
    "--------------------сбока факта к плану--------------------------\n",
    "\n",
    "--------------план конверсии---------------------\n",
    "pl_konv as (\n",
    "SELECT cast(dateadd(year,\n",
    "\t\t -2000,\n",
    "\t\t _Fld7062) AS date) AS period,\n",
    "\t\t (d_v._Fld7072/100) AS ПланКонверсии,\n",
    "\t\t cast(d_v._Fld7071RRef AS uniqueidentifier) AS ccShops\n",
    "FROM _Document302_VT7069 d_v \n",
    "\n",
    "left outer JOIN _Document302 d ON d_v._Document302_idrref = d._idrref\n",
    "\n",
    "WHERE d._Marked = 0\n",
    "\t\tAND d._Posted=1 and d_v._Fld7072>0 and d_v._Fld7072  is not null\n",
    "--!!!!!!!!!!!!!!!!!!!!!!!!!!!!!!!!!!!!!!!!!!!!!!!!!!!\n",
    "        and _Fld7062 = '4021-08-01'\n",
    "--!!!!!!!!!!!!!!!!!!!!!!!!!!!!!!!!!!!!!!!!!!!!!!!!!!!!\n",
    "),\n",
    "\n",
    "--------------план ср чека и прочего---------------------\n",
    "pl_sr4 as (\n",
    "SELECT cast(dateadd(year, -2000, _Fld7090) as date) AS period, \n",
    "        (d_v._Fld7103) AS PlanKol4,\n",
    "\t\t cast(d_v._Fld7101RRef AS uniqueidentifier) AS ccShops,\n",
    "\t\t (d_v._Fld7102) AS PlanVyru4ka,\n",
    "          iif(d_v._Fld7103=0,0,d_v._Fld7102/d_v._Fld7103) AS PlanAver4\n",
    "         \n",
    "FROM _Document304_VT7099 d_v \n",
    "\n",
    "left outer JOIN _Document304 d ON d_v._Document304_idrref = d._idrref\n",
    "\n",
    "WHERE d._Marked = 0\n",
    "\t\tAND d._Posted=1 and _Fld7090>='08.01.4021'\n",
    "        \n",
    ")\n",
    "--!!!!!!!!!!!!!!!!!!!!!!!!!!!!!!!!!!!!!!!!!!!!!!!!!!!!\n",
    "\n",
    "------------------сборка----------------------\n",
    "\n",
    "select \n",
    "\n",
    "    \n",
    "    pk.period,\n",
    "    pk.ПланКонверсии as PlanKonv,\n",
    "    pk.ccShops,\n",
    "    tf.Kol4 as Kol4,\n",
    "    tf.Summa_ii,\n",
    "    tf.sr4 as Avg4,\n",
    "    tf.konv as konv,\n",
    "    p4.PlanAver4 ,\n",
    "    iif( tf.konv>=pk.ПланКонверсии and tf.sr4>=p4.PlanAver4 ,1,0)   as balls         \n",
    "\n",
    "--    * \n",
    "\n",
    "from pl_konv pk    \n",
    "\n",
    "LEFT outer join pl_sr4 p4 ON p4.period=pk.period and p4.ccShops = pk.ccShops\n",
    "LEFT outer join tab_fact tf ON tf.period=pk.period and tf.ccShops = pk.ccShops\n",
    "\n",
    "\"\"\""
   ]
  },
  {
   "cell_type": "code",
   "execution_count": null,
   "metadata": {},
   "outputs": [],
   "source": []
  },
  {
   "cell_type": "code",
   "execution_count": 585,
   "metadata": {},
   "outputs": [],
   "source": [
    "def read_sql(sql,base, serv):\n",
    "    #with pymssql.connect(server=serv ,database = base ,charset =  'cp1251') as  conn:\n",
    "    with pymssql.connect(server=serv ,charset =  'cp1251',database = base ) as  conn:                  \n",
    "    \n",
    "        cursor = conn.cursor()  \n",
    "        df = pd.read_sql( sql,conn)\n",
    "    return df"
   ]
  },
  {
   "cell_type": "code",
   "execution_count": 586,
   "metadata": {},
   "outputs": [
    {
     "name": "stdout",
     "output_type": "stream",
     "text": [
      "Wall time: 3.46 s\n"
     ]
    }
   ],
   "source": [
    "%%time\n",
    "df_tr=read_sql(sql,base, server)"
   ]
  },
  {
   "cell_type": "markdown",
   "metadata": {},
   "source": [
    "print(df_tr)"
   ]
  },
  {
   "cell_type": "code",
   "execution_count": 588,
   "metadata": {},
   "outputs": [
    {
     "name": "stdout",
     "output_type": "stream",
     "text": [
      "<class 'pandas.core.frame.DataFrame'>\n",
      "RangeIndex: 5748 entries, 0 to 5747\n",
      "Data columns (total 9 columns):\n",
      " #   Column     Non-Null Count  Dtype  \n",
      "---  ------     --------------  -----  \n",
      " 0   period     5748 non-null   object \n",
      " 1   PlanKonv   5748 non-null   float64\n",
      " 2   ccShops    5748 non-null   object \n",
      " 3   Kol4       5747 non-null   float64\n",
      " 4   Summa_ii   5747 non-null   float64\n",
      " 5   Avg4       5747 non-null   float64\n",
      " 6   konv       5747 non-null   float64\n",
      " 7   PlanAver4  5748 non-null   float64\n",
      " 8   balls      5748 non-null   int64  \n",
      "dtypes: float64(6), int64(1), object(2)\n",
      "memory usage: 404.3+ KB\n"
     ]
    }
   ],
   "source": [
    "df_tr.info()"
   ]
  },
  {
   "cell_type": "markdown",
   "metadata": {},
   "source": [
    "df_tr['Summa_ii']=df_tr['Summa_ii'].fillna(0)\n",
    "df_tr.info()"
   ]
  },
  {
   "cell_type": "code",
   "execution_count": 253,
   "metadata": {},
   "outputs": [
    {
     "data": {
      "text/plain": [
       "531986938.41999996"
      ]
     },
     "execution_count": 253,
     "metadata": {},
     "output_type": "execute_result"
    }
   ],
   "source": [
    "sum(df_tr['Summa_ii'])"
   ]
  },
  {
   "cell_type": "code",
   "execution_count": 254,
   "metadata": {},
   "outputs": [
    {
     "data": {
      "text/plain": [
       "373766.0"
      ]
     },
     "execution_count": 254,
     "metadata": {},
     "output_type": "execute_result"
    }
   ],
   "source": [
    "sum(df_tr['Трафик'])\n"
   ]
  },
  {
   "cell_type": "code",
   "execution_count": 255,
   "metadata": {},
   "outputs": [
    {
     "data": {
      "text/plain": [
       "87299"
      ]
     },
     "execution_count": 255,
     "metadata": {},
     "output_type": "execute_result"
    }
   ],
   "source": [
    "sum(df_tr['Kol4'])"
   ]
  },
  {
   "cell_type": "code",
   "execution_count": 256,
   "metadata": {},
   "outputs": [
    {
     "name": "stdout",
     "output_type": "stream",
     "text": [
      "<class 'pandas.core.frame.DataFrame'>\n",
      "RangeIndex: 5902 entries, 0 to 5901\n",
      "Data columns (total 7 columns):\n",
      " #   Column     Non-Null Count  Dtype  \n",
      "---  ------     --------------  -----  \n",
      " 0   date_ii    5902 non-null   object \n",
      " 1   Трафик     5902 non-null   float64\n",
      " 2   cсМагазин  5902 non-null   object \n",
      " 3   Summa_ii   5902 non-null   float64\n",
      " 4   Kol4       5902 non-null   int64  \n",
      " 5   sr4        5902 non-null   float64\n",
      " 6   konv       5902 non-null   float64\n",
      "dtypes: float64(4), int64(1), object(2)\n",
      "memory usage: 322.9+ KB\n"
     ]
    }
   ],
   "source": [
    "df_tr.info()"
   ]
  },
  {
   "cell_type": "code",
   "execution_count": 514,
   "metadata": {},
   "outputs": [],
   "source": [
    "sql=\"\"\"\n",
    "--------------план ср чека и прочего---------------------\n",
    "SELECT cast(dateadd(year, -2000, _Fld7090) as date) AS Период, \n",
    "        (d_v._Fld7103) AS PlanKol4,\n",
    "\t\t cast(d_v._Fld7101RRef AS uniqueidentifier) AS ссМагазин,\n",
    "\t\t (d_v._Fld7102) AS PlanVyru4ka,\n",
    "          iif(d_v._Fld7103=0,0,d_v._Fld7102/d_v._Fld7103) AS PlanAver4\n",
    "         \n",
    "FROM _Document304_VT7099 d_v \n",
    "\n",
    "left outer JOIN _Document304 d ON d_v._Document304_idrref = d._idrref\n",
    "\n",
    "WHERE d._Marked = 0\n",
    "\t\tAND d._Posted=1\n",
    "--!!!!!!!!!!!!!!!!!!!!!!!!!!!!!!!!!!!!!!!!!!!!!!!!!!!!\n",
    "\"\"\""
   ]
  },
  {
   "cell_type": "markdown",
   "metadata": {},
   "source": [
    "conn.close()"
   ]
  },
  {
   "cell_type": "code",
   "execution_count": 515,
   "metadata": {},
   "outputs": [
    {
     "name": "stdout",
     "output_type": "stream",
     "text": [
      "Wall time: 340 ms\n"
     ]
    }
   ],
   "source": [
    "%%time\n",
    "df=read_sql(sql,base, server)\n"
   ]
  },
  {
   "cell_type": "code",
   "execution_count": 516,
   "metadata": {},
   "outputs": [
    {
     "name": "stdout",
     "output_type": "stream",
     "text": [
      "<class 'pandas.core.frame.DataFrame'>\n",
      "RangeIndex: 9944 entries, 0 to 9943\n",
      "Data columns (total 5 columns):\n",
      " #   Column       Non-Null Count  Dtype  \n",
      "---  ------       --------------  -----  \n",
      " 0   Период       9944 non-null   object \n",
      " 1   PlanKol4     9944 non-null   float64\n",
      " 2   ссМагазин    9944 non-null   object \n",
      " 3   PlanVyru4ka  9944 non-null   float64\n",
      " 4   PlanAver4    9944 non-null   float64\n",
      "dtypes: float64(3), object(2)\n",
      "memory usage: 388.6+ KB\n"
     ]
    }
   ],
   "source": [
    "df.info()\n"
   ]
  },
  {
   "cell_type": "code",
   "execution_count": 517,
   "metadata": {},
   "outputs": [
    {
     "data": {
      "text/html": [
       "<div>\n",
       "<style scoped>\n",
       "    .dataframe tbody tr th:only-of-type {\n",
       "        vertical-align: middle;\n",
       "    }\n",
       "\n",
       "    .dataframe tbody tr th {\n",
       "        vertical-align: top;\n",
       "    }\n",
       "\n",
       "    .dataframe thead th {\n",
       "        text-align: right;\n",
       "    }\n",
       "</style>\n",
       "<table border=\"1\" class=\"dataframe\">\n",
       "  <thead>\n",
       "    <tr style=\"text-align: right;\">\n",
       "      <th></th>\n",
       "      <th>Период</th>\n",
       "      <th>PlanKol4</th>\n",
       "      <th>ссМагазин</th>\n",
       "      <th>PlanVyru4ka</th>\n",
       "      <th>PlanAver4</th>\n",
       "    </tr>\n",
       "  </thead>\n",
       "  <tbody>\n",
       "    <tr>\n",
       "      <th>0</th>\n",
       "      <td>2020-12-01</td>\n",
       "      <td>449.0</td>\n",
       "      <td>4a3cbca6-7492-28df-11e6-83f9ae08f345</td>\n",
       "      <td>2565000.0</td>\n",
       "      <td>5712.694878</td>\n",
       "    </tr>\n",
       "    <tr>\n",
       "      <th>1</th>\n",
       "      <td>2020-12-01</td>\n",
       "      <td>468.0</td>\n",
       "      <td>1500b98d-015d-002a-11ea-0a1f62408fe9</td>\n",
       "      <td>2565000.0</td>\n",
       "      <td>5480.769231</td>\n",
       "    </tr>\n",
       "    <tr>\n",
       "      <th>2</th>\n",
       "      <td>2020-12-01</td>\n",
       "      <td>902.0</td>\n",
       "      <td>4a3c5bb9-7492-28df-11e6-e9ebb126c03a</td>\n",
       "      <td>5890000.0</td>\n",
       "      <td>6529.933481</td>\n",
       "    </tr>\n",
       "    <tr>\n",
       "      <th>3</th>\n",
       "      <td>2020-12-01</td>\n",
       "      <td>591.0</td>\n",
       "      <td>11008787-72d8-8824-11de-d377741509dd</td>\n",
       "      <td>3610000.0</td>\n",
       "      <td>6108.291032</td>\n",
       "    </tr>\n",
       "    <tr>\n",
       "      <th>4</th>\n",
       "      <td>2020-12-01</td>\n",
       "      <td>322.0</td>\n",
       "      <td>4a3cb5b9-7492-28df-11e8-cba4f26b4f09</td>\n",
       "      <td>1710000.0</td>\n",
       "      <td>5310.559006</td>\n",
       "    </tr>\n",
       "    <tr>\n",
       "      <th>...</th>\n",
       "      <td>...</td>\n",
       "      <td>...</td>\n",
       "      <td>...</td>\n",
       "      <td>...</td>\n",
       "      <td>...</td>\n",
       "    </tr>\n",
       "    <tr>\n",
       "      <th>9939</th>\n",
       "      <td>2018-08-01</td>\n",
       "      <td>333.0</td>\n",
       "      <td>4a3cf1ae-7492-28df-11e7-50f49f928c45</td>\n",
       "      <td>1500000.0</td>\n",
       "      <td>4504.504505</td>\n",
       "    </tr>\n",
       "    <tr>\n",
       "      <th>9940</th>\n",
       "      <td>2018-08-01</td>\n",
       "      <td>344.0</td>\n",
       "      <td>4a3cf1ae-7492-28df-11e7-50f49f928c32</td>\n",
       "      <td>1550000.0</td>\n",
       "      <td>4505.813953</td>\n",
       "    </tr>\n",
       "    <tr>\n",
       "      <th>9941</th>\n",
       "      <td>2018-08-01</td>\n",
       "      <td>289.0</td>\n",
       "      <td>4a3cf1ae-7492-28df-11e7-50f49f928c37</td>\n",
       "      <td>1300000.0</td>\n",
       "      <td>4498.269896</td>\n",
       "    </tr>\n",
       "    <tr>\n",
       "      <th>9942</th>\n",
       "      <td>2018-08-01</td>\n",
       "      <td>222.0</td>\n",
       "      <td>4a3cf1ae-7492-28df-11e7-50f49f928c49</td>\n",
       "      <td>1000000.0</td>\n",
       "      <td>4504.504505</td>\n",
       "    </tr>\n",
       "    <tr>\n",
       "      <th>9943</th>\n",
       "      <td>2018-08-01</td>\n",
       "      <td>149.0</td>\n",
       "      <td>4a3c85b9-7492-28df-11e8-44a6d987fc04</td>\n",
       "      <td>700000.0</td>\n",
       "      <td>4697.986577</td>\n",
       "    </tr>\n",
       "  </tbody>\n",
       "</table>\n",
       "<p>9944 rows × 5 columns</p>\n",
       "</div>"
      ],
      "text/plain": [
       "          Период  PlanKol4                             ссМагазин  PlanVyru4ka  \\\n",
       "0     2020-12-01     449.0  4a3cbca6-7492-28df-11e6-83f9ae08f345    2565000.0   \n",
       "1     2020-12-01     468.0  1500b98d-015d-002a-11ea-0a1f62408fe9    2565000.0   \n",
       "2     2020-12-01     902.0  4a3c5bb9-7492-28df-11e6-e9ebb126c03a    5890000.0   \n",
       "3     2020-12-01     591.0  11008787-72d8-8824-11de-d377741509dd    3610000.0   \n",
       "4     2020-12-01     322.0  4a3cb5b9-7492-28df-11e8-cba4f26b4f09    1710000.0   \n",
       "...          ...       ...                                   ...          ...   \n",
       "9939  2018-08-01     333.0  4a3cf1ae-7492-28df-11e7-50f49f928c45    1500000.0   \n",
       "9940  2018-08-01     344.0  4a3cf1ae-7492-28df-11e7-50f49f928c32    1550000.0   \n",
       "9941  2018-08-01     289.0  4a3cf1ae-7492-28df-11e7-50f49f928c37    1300000.0   \n",
       "9942  2018-08-01     222.0  4a3cf1ae-7492-28df-11e7-50f49f928c49    1000000.0   \n",
       "9943  2018-08-01     149.0  4a3c85b9-7492-28df-11e8-44a6d987fc04     700000.0   \n",
       "\n",
       "        PlanAver4  \n",
       "0     5712.694878  \n",
       "1     5480.769231  \n",
       "2     6529.933481  \n",
       "3     6108.291032  \n",
       "4     5310.559006  \n",
       "...           ...  \n",
       "9939  4504.504505  \n",
       "9940  4505.813953  \n",
       "9941  4498.269896  \n",
       "9942  4504.504505  \n",
       "9943  4697.986577  \n",
       "\n",
       "[9944 rows x 5 columns]"
      ]
     },
     "execution_count": 517,
     "metadata": {},
     "output_type": "execute_result"
    }
   ],
   "source": [
    "df\n"
   ]
  },
  {
   "cell_type": "code",
   "execution_count": null,
   "metadata": {},
   "outputs": [],
   "source": []
  }
 ],
 "metadata": {
  "kernelspec": {
   "display_name": "Python 3",
   "language": "python",
   "name": "python3"
  },
  "language_info": {
   "codemirror_mode": {
    "name": "ipython",
    "version": 3
   },
   "file_extension": ".py",
   "mimetype": "text/x-python",
   "name": "python",
   "nbconvert_exporter": "python",
   "pygments_lexer": "ipython3",
   "version": "3.7.6"
  }
 },
 "nbformat": 4,
 "nbformat_minor": 4
}
