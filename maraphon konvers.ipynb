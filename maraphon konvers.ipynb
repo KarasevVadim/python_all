{
 "cells": [
  {
   "cell_type": "markdown",
   "metadata": {},
   "source": [
    "pip install pymssql \n",
    "\n"
   ]
  },
  {
   "cell_type": "code",
   "execution_count": 141,
   "metadata": {},
   "outputs": [],
   "source": [
    "import pandas as pd\n",
    "import pymssql "
   ]
  },
  {
   "cell_type": "code",
   "execution_count": 142,
   "metadata": {},
   "outputs": [],
   "source": [
    "server=\"SQL-retail2.nikamed.local\"\n",
    "base=\"Retail2_shops\""
   ]
  },
  {
   "cell_type": "code",
   "execution_count": 482,
   "metadata": {},
   "outputs": [],
   "source": [
    "sql=\"\"\"\n",
    "with mag_iskl as (\n",
    "SELECT CAST(_IDRRef AS uniqueidentifier) AS Ссылка, --исключение техн склада\n",
    "_IDRRef, \n",
    "_Code AS Код\n",
    "FROM _Reference10\n",
    "where _Code='0-002'\n",
    "),\n",
    "--------------------------------------исх продажи-----------------------\n",
    "sales_ish as (\n",
    "select \n",
    "       cast(dateadd(year, -2000, d21._date_time) as date) as Дата , \n",
    "       cast(d21._number as varchar(20))+'_'+ cast(dateadd(year, -2000, d21._date_time) as varchar(50)) as  Num4ККМ,  \n",
    "       iif(e._EnumOrder=1,-1,1) as 'ВидОперации'\n",
    "       ,iif(e._EnumOrder=1, -d21t._Fld6384, d21t._Fld6384 ) as 'Количество'\n",
    "       ,iif(e._EnumOrder=1, -d21t._Fld6397, d21t._Fld6397) as 'Сумма'\n",
    "              , cast(r10._idrref as uniqueidentifier) as 'ccМагазин'\n",
    "       , iif(r2_10._Code is null, cast(r10._idrref as uniqueidentifier), \n",
    "                                  cast(r2_10._idrref as uniqueidentifier) ) as 'ccМагазинМотивационный'\n",
    "from _Document21_VT6378 d21t\n",
    "left outer join _Document21 d21 on d21t._Document21_IDRRef = d21._IDRRef /*исх чек*/\n",
    "LEFT OUTER JOIN _reference47 r47 ON d21._Fld6331RRef = r47._idrref /*вид документа*/\n",
    "LEFT OUTER JOIN _Enum352 e ON d21._Fld6333RRef = e._idrref /*вид документа в перечислениях чека ккм - 0-продажа, 1-возврат*/\n",
    "left outer join _Reference10 r10 on d21._Fld6339RRef = r10._idrref /*shop*/\n",
    "left outer join  _Document21 d2_21 on d21._Fld6353RRef=d2_21._idrref /*поиск мотив маг*/\n",
    "left outer join _Reference10 r2_10 on d2_21._Fld6339RRef = r2_10._idrref /*shop*/\n",
    "where d21._marked = 0 and d21._Posted = 1\n",
    "and d21._date_time >= '08.01.4021' --and d21._date_time < '09.01.4021'\n",
    "union all\n",
    "select \n",
    "       cast(dateadd(year, -2000, d._date_time) as date) as 'Дата', \n",
    "        cast(d._number as varchar(20))+'_'+ cast(dateadd(year, -2000, d._date_time) as varchar(50)) as  Num4ККМ,      \n",
    "        -1\n",
    "       , -dt._Fld3984 as 'Количество'\n",
    "       , -dt._Fld3988 as 'СуммаЧека'\n",
    "       , cast(r10._idrref as uniqueidentifier) as 'ccМагазин'\n",
    "       , iif(r2_10._Code is null, cast(r10._idrref as uniqueidentifier), cast(r2_10._idrref as uniqueidentifier) ) as 'ccМагазинМотивационный'\n",
    "from _Document216_VT3980 dt\n",
    "left outer join _Document216 d on dt._Document216_IDRRef = d._IDRRef /*исх возвратный чек*/\n",
    "left outer join _Reference10 r10 on d._Fld3950RRef = r10._idrref /*shop*/\n",
    "left outer join  _Reference172 r172  on dt._Fld4001RRef = r172._idrref\n",
    "left outer join  _Reference23 r23  on dt._Fld3982RRef = r23._idrref\n",
    "left outer join _Reference131 r131 on d._Fld11137RRef= r131._idrref --  склады\n",
    "left outer join _Reference10 r2_10 on r131._Fld2686RRef = r2_10._idrref /*shop к складу*/\n",
    "where d._marked = 0 and d._Posted = 1\n",
    "and d._date_time >= '08.01.4021' --and d._date_time  < '09.01.4021'\n",
    "\n",
    "), \n",
    "-------------суммарные продажи------------------------------------ \n",
    "sales_sum2 as (\n",
    "\n",
    "SELECT\n",
    "\n",
    "Дата as date_ss, \n",
    "sum(Сумма)  as Summa, \n",
    "ccМагазин, \n",
    "ccМагазинМотивационный, \n",
    "ВидОперации,\n",
    "Num4ККМ \n",
    "\n",
    "FROM sales_ish\n",
    "\n",
    "group by Дата, ccМагазин, ccМагазинМотивационный, ВидОперации, Num4ККМ\n",
    "\n",
    "),\n",
    "-------------c кол чеков------------------------------------ \n",
    "sales_sum as (\n",
    "SELECT date_ss,\n",
    "\n",
    "ccМагазин, \n",
    "ccМагазинМотивационный,\n",
    "sum(Summa) as Summa, \n",
    "sum(ВидОперации) as Kol4\n",
    "FROM sales_sum2\n",
    "\n",
    "group by date_ss, ccМагазин, ccМагазинМотивационный\n",
    "\n",
    "),\n",
    "-----------трафиk группировка-----------------------------\n",
    "tr_gr as (\n",
    "SELECT cast(dateadd(year,-2000,i._fld10076) AS date) AS date_ii,\n",
    "\t\t sum(i._fld10077) AS Трафик,\n",
    "\t\t cast( r._Fld2907RRef AS uniqueidentifier) AS cсМагазин\n",
    "FROM _InfoRg10074 i \n",
    "\n",
    "left outer JOIN _reference142 r ON i._Fld10075RRef = r._IDRRef \n",
    "left outer JOIN mag_iskl mi ON r._Fld2907RRef=mi._IDRRef\n",
    "\n",
    "WHERE i._fld10076 >= '08.01.4021'\n",
    "--\t\tAND i._fld10076 < '09.01.4021'\n",
    "\t\tAND i._fld10077 > 0\n",
    "\t\tAND mi._IDRRef is  null\n",
    "GROUP BY  cast(dateadd(year, -2000, i._fld10076) AS date) , cast( r._Fld2907RRef AS uniqueidentifier)\n",
    "),\n",
    "---------------------------------------------------\n",
    "--select * from tr_gr\n",
    "traf_ich as (\n",
    "SELECT tab.date_ii, \n",
    "    tab.Трафик, \n",
    "    tab.cсМагазин, \n",
    "    iif(sum(sales_sum.Summa) is null,0,sum(sales_sum.Summa)) as Summa_ii, \n",
    "    sum(iif(Kol4 is null,0,Kol4)) as Kol4\n",
    "    \n",
    "    \n",
    "FROM tr_gr tab\n",
    "\n",
    "left outer join sales_sum on sales_sum.date_ss=tab.date_ii and sales_sum.ccМагазин=tab.cсМагазин\n",
    "--!!!!!!!!!!!!!!!!!!!!!!!!!!!!!!!!!!!!!!!!!!!!!!!!!!!!!!!!!!!!!!!!!!!!!!!!!!\n",
    "WHERE tab.date_ii >= '08.01.2021' --and tab.date_ii < '09.01.2021'\n",
    "--!!!!!!!!!!!!!!!!!!!!!!!!!!!!!!!!!!!!!!!!!!!!!!!!!!!!!!!!!!!!!!!!!!!!!!!!!!\n",
    "group by tab.date_ii , tab.cсМагазин, tab.Трафик\n",
    "),\n",
    "------------------сборка факт показателей---------------\n",
    "tab_fact as (\n",
    "select tab.date_ii ,\n",
    "    concat(left(tab.date_ii,8),'01') As period,\n",
    "    tab.Трафик,\n",
    "    tab.cсМагазин as ccShops,\n",
    "    tab.Summa_ii,\n",
    "    tab.Kol4,\n",
    "    iif(tab.Kol4=0,0,tab.Summa_ii/tab.Kol4)  as sr4,\n",
    "    iif(tab.Трафик=0,0,tab.Kol4/tab.Трафик)  as konv\n",
    "    \n",
    "    from traf_ich as tab\n",
    "),    \n",
    "--------------------сбока факта к плану--------------------------\n",
    "\n",
    "--------------план конверсии---------------------\n",
    "pl_konv as (\n",
    "SELECT cast(dateadd(year,\n",
    "\t\t -2000,\n",
    "\t\t _Fld7062) AS date) AS period,\n",
    "\t\t (d_v._Fld7072/100) AS ПланКонверсии,\n",
    "\t\t cast(d_v._Fld7071RRef AS uniqueidentifier) AS ccShops\n",
    "FROM _Document302_VT7069 d_v \n",
    "\n",
    "left outer JOIN _Document302 d ON d_v._Document302_idrref = d._idrref\n",
    "\n",
    "WHERE d._Marked = 0\n",
    "\t\tAND d._Posted=1\n",
    "--!!!!!!!!!!!!!!!!!!!!!!!!!!!!!!!!!!!!!!!!!!!!!!!!!!!\n",
    "        and _Fld7062 = '4021-08-01'\n",
    "--!!!!!!!!!!!!!!!!!!!!!!!!!!!!!!!!!!!!!!!!!!!!!!!!!!!!\n",
    ")\n",
    "\n",
    "\n",
    "------------------сборка----------------------\n",
    "\n",
    "select \n",
    "\n",
    "    \n",
    "    pk.period,\n",
    "    pk.ПланКонверсии as PlanKonv,\n",
    "    pk.ccShops,\n",
    "    tf.Kol4 as Kol4,\n",
    "    tf.Summa_ii,\n",
    "    tf.sr4 as Avg4,\n",
    "    tf.konv as konv\n",
    "--    * \n",
    "\n",
    "from pl_konv pk    \n",
    "\n",
    "LEFT outer join tab_fact tf ON tf.period=pk.period and tf.ccShops = pk.ccShops\n",
    "\n",
    "\n",
    "\"\"\""
   ]
  },
  {
   "cell_type": "code",
   "execution_count": null,
   "metadata": {},
   "outputs": [],
   "source": []
  },
  {
   "cell_type": "code",
   "execution_count": 483,
   "metadata": {},
   "outputs": [],
   "source": [
    "def read_sql(sql,base, serv):\n",
    "    #with pymssql.connect(server=serv ,database = base ,charset =  'cp1251') as  conn:\n",
    "    with pymssql.connect(server=serv ,charset =  'cp1251',database = base ) as  conn:                  \n",
    "    \n",
    "        cursor = conn.cursor()  \n",
    "        df = pd.read_sql( sql,conn)\n",
    "    return df"
   ]
  },
  {
   "cell_type": "code",
   "execution_count": 484,
   "metadata": {},
   "outputs": [
    {
     "name": "stdout",
     "output_type": "stream",
     "text": [
      "Wall time: 13.9 s\n"
     ]
    }
   ],
   "source": [
    "%%time\n",
    "df_tr=read_sql(sql,base, server)"
   ]
  },
  {
   "cell_type": "code",
   "execution_count": 485,
   "metadata": {},
   "outputs": [
    {
     "data": {
      "text/html": [
       "<div>\n",
       "<style scoped>\n",
       "    .dataframe tbody tr th:only-of-type {\n",
       "        vertical-align: middle;\n",
       "    }\n",
       "\n",
       "    .dataframe tbody tr th {\n",
       "        vertical-align: top;\n",
       "    }\n",
       "\n",
       "    .dataframe thead th {\n",
       "        text-align: right;\n",
       "    }\n",
       "</style>\n",
       "<table border=\"1\" class=\"dataframe\">\n",
       "  <thead>\n",
       "    <tr style=\"text-align: right;\">\n",
       "      <th></th>\n",
       "      <th>period</th>\n",
       "      <th>PlanKonv</th>\n",
       "      <th>ccShops</th>\n",
       "      <th>Kol4</th>\n",
       "      <th>Summa_ii</th>\n",
       "      <th>Avg4</th>\n",
       "      <th>konv</th>\n",
       "    </tr>\n",
       "  </thead>\n",
       "  <tbody>\n",
       "    <tr>\n",
       "      <th>0</th>\n",
       "      <td>2021-08-01</td>\n",
       "      <td>0.18</td>\n",
       "      <td>15000f8d-015d-0443-11e9-91dc0bd5fdd6</td>\n",
       "      <td>7.0</td>\n",
       "      <td>43428.0</td>\n",
       "      <td>6204.000000</td>\n",
       "      <td>0.104478</td>\n",
       "    </tr>\n",
       "    <tr>\n",
       "      <th>1</th>\n",
       "      <td>2021-08-01</td>\n",
       "      <td>0.22</td>\n",
       "      <td>4a3cb3b9-7492-28df-11e7-155be2ea26ad</td>\n",
       "      <td>5.0</td>\n",
       "      <td>39753.0</td>\n",
       "      <td>7950.600000</td>\n",
       "      <td>0.078125</td>\n",
       "    </tr>\n",
       "    <tr>\n",
       "      <th>2</th>\n",
       "      <td>2021-08-01</td>\n",
       "      <td>0.28</td>\n",
       "      <td>4a3ce78c-7492-28df-11e6-f8d0f307b036</td>\n",
       "      <td>12.0</td>\n",
       "      <td>54285.0</td>\n",
       "      <td>4523.750000</td>\n",
       "      <td>0.315789</td>\n",
       "    </tr>\n",
       "    <tr>\n",
       "      <th>3</th>\n",
       "      <td>2021-08-01</td>\n",
       "      <td>0.30</td>\n",
       "      <td>4a3c3cb8-7492-28df-11e7-778fe6fa7541</td>\n",
       "      <td>8.0</td>\n",
       "      <td>45406.0</td>\n",
       "      <td>5675.750000</td>\n",
       "      <td>0.222222</td>\n",
       "    </tr>\n",
       "    <tr>\n",
       "      <th>4</th>\n",
       "      <td>2021-08-01</td>\n",
       "      <td>0.32</td>\n",
       "      <td>4a3c0d86-7492-28df-11e6-b2f653a1d1a8</td>\n",
       "      <td>14.0</td>\n",
       "      <td>104225.0</td>\n",
       "      <td>7444.642857</td>\n",
       "      <td>0.254545</td>\n",
       "    </tr>\n",
       "    <tr>\n",
       "      <th>...</th>\n",
       "      <td>...</td>\n",
       "      <td>...</td>\n",
       "      <td>...</td>\n",
       "      <td>...</td>\n",
       "      <td>...</td>\n",
       "      <td>...</td>\n",
       "      <td>...</td>\n",
       "    </tr>\n",
       "    <tr>\n",
       "      <th>5767</th>\n",
       "      <td>2021-08-01</td>\n",
       "      <td>0.23</td>\n",
       "      <td>4a3ccd94-7492-28df-11e6-ff1c89f945f0</td>\n",
       "      <td>14.0</td>\n",
       "      <td>69891.0</td>\n",
       "      <td>4992.214285</td>\n",
       "      <td>0.241379</td>\n",
       "    </tr>\n",
       "    <tr>\n",
       "      <th>5768</th>\n",
       "      <td>2021-08-01</td>\n",
       "      <td>0.26</td>\n",
       "      <td>4a3cac86-7492-28df-11e3-b3f310efba67</td>\n",
       "      <td>11.0</td>\n",
       "      <td>59895.0</td>\n",
       "      <td>5445.000000</td>\n",
       "      <td>0.164179</td>\n",
       "    </tr>\n",
       "    <tr>\n",
       "      <th>5769</th>\n",
       "      <td>2021-08-01</td>\n",
       "      <td>0.33</td>\n",
       "      <td>4a3c90b8-7492-28df-11e1-bc6a07dfd167</td>\n",
       "      <td>6.0</td>\n",
       "      <td>17845.0</td>\n",
       "      <td>2974.166666</td>\n",
       "      <td>0.171429</td>\n",
       "    </tr>\n",
       "    <tr>\n",
       "      <th>5770</th>\n",
       "      <td>2021-08-01</td>\n",
       "      <td>0.00</td>\n",
       "      <td>4a3caeb7-7492-28df-11e7-2a91578c98c1</td>\n",
       "      <td>NaN</td>\n",
       "      <td>NaN</td>\n",
       "      <td>NaN</td>\n",
       "      <td>NaN</td>\n",
       "    </tr>\n",
       "    <tr>\n",
       "      <th>5771</th>\n",
       "      <td>2021-08-01</td>\n",
       "      <td>0.00</td>\n",
       "      <td>4a3c85b9-7492-28df-11e8-42e2e01abf34</td>\n",
       "      <td>NaN</td>\n",
       "      <td>NaN</td>\n",
       "      <td>NaN</td>\n",
       "      <td>NaN</td>\n",
       "    </tr>\n",
       "  </tbody>\n",
       "</table>\n",
       "<p>5772 rows × 7 columns</p>\n",
       "</div>"
      ],
      "text/plain": [
       "          period  PlanKonv                               ccShops  Kol4  \\\n",
       "0     2021-08-01      0.18  15000f8d-015d-0443-11e9-91dc0bd5fdd6   7.0   \n",
       "1     2021-08-01      0.22  4a3cb3b9-7492-28df-11e7-155be2ea26ad   5.0   \n",
       "2     2021-08-01      0.28  4a3ce78c-7492-28df-11e6-f8d0f307b036  12.0   \n",
       "3     2021-08-01      0.30  4a3c3cb8-7492-28df-11e7-778fe6fa7541   8.0   \n",
       "4     2021-08-01      0.32  4a3c0d86-7492-28df-11e6-b2f653a1d1a8  14.0   \n",
       "...          ...       ...                                   ...   ...   \n",
       "5767  2021-08-01      0.23  4a3ccd94-7492-28df-11e6-ff1c89f945f0  14.0   \n",
       "5768  2021-08-01      0.26  4a3cac86-7492-28df-11e3-b3f310efba67  11.0   \n",
       "5769  2021-08-01      0.33  4a3c90b8-7492-28df-11e1-bc6a07dfd167   6.0   \n",
       "5770  2021-08-01      0.00  4a3caeb7-7492-28df-11e7-2a91578c98c1   NaN   \n",
       "5771  2021-08-01      0.00  4a3c85b9-7492-28df-11e8-42e2e01abf34   NaN   \n",
       "\n",
       "      Summa_ii         Avg4      konv  \n",
       "0      43428.0  6204.000000  0.104478  \n",
       "1      39753.0  7950.600000  0.078125  \n",
       "2      54285.0  4523.750000  0.315789  \n",
       "3      45406.0  5675.750000  0.222222  \n",
       "4     104225.0  7444.642857  0.254545  \n",
       "...        ...          ...       ...  \n",
       "5767   69891.0  4992.214285  0.241379  \n",
       "5768   59895.0  5445.000000  0.164179  \n",
       "5769   17845.0  2974.166666  0.171429  \n",
       "5770       NaN          NaN       NaN  \n",
       "5771       NaN          NaN       NaN  \n",
       "\n",
       "[5772 rows x 7 columns]"
      ]
     },
     "execution_count": 485,
     "metadata": {},
     "output_type": "execute_result"
    }
   ],
   "source": [
    "df_tr"
   ]
  },
  {
   "cell_type": "code",
   "execution_count": 470,
   "metadata": {},
   "outputs": [
    {
     "name": "stdout",
     "output_type": "stream",
     "text": [
      "<class 'pandas.core.frame.DataFrame'>\n",
      "RangeIndex: 5772 entries, 0 to 5771\n",
      "Data columns (total 7 columns):\n",
      " #   Column         Non-Null Count  Dtype  \n",
      "---  ------         --------------  -----  \n",
      " 0   period         5772 non-null   object \n",
      " 1   ПланКонверсии  5772 non-null   float64\n",
      " 2   ccShops        5772 non-null   object \n",
      " 3   Kol4           5747 non-null   float64\n",
      " 4   Summa_ii       5747 non-null   float64\n",
      " 5   Avg4           5747 non-null   float64\n",
      " 6   konv           5747 non-null   float64\n",
      "dtypes: float64(5), object(2)\n",
      "memory usage: 315.8+ KB\n"
     ]
    }
   ],
   "source": [
    "df_tr.info()"
   ]
  },
  {
   "cell_type": "markdown",
   "metadata": {},
   "source": [
    "df_tr['Summa_ii']=df_tr['Summa_ii'].fillna(0)\n",
    "df_tr.info()"
   ]
  },
  {
   "cell_type": "code",
   "execution_count": 253,
   "metadata": {},
   "outputs": [
    {
     "data": {
      "text/plain": [
       "531986938.41999996"
      ]
     },
     "execution_count": 253,
     "metadata": {},
     "output_type": "execute_result"
    }
   ],
   "source": [
    "sum(df_tr['Summa_ii'])"
   ]
  },
  {
   "cell_type": "code",
   "execution_count": 254,
   "metadata": {},
   "outputs": [
    {
     "data": {
      "text/plain": [
       "373766.0"
      ]
     },
     "execution_count": 254,
     "metadata": {},
     "output_type": "execute_result"
    }
   ],
   "source": [
    "sum(df_tr['Трафик'])\n"
   ]
  },
  {
   "cell_type": "code",
   "execution_count": 255,
   "metadata": {},
   "outputs": [
    {
     "data": {
      "text/plain": [
       "87299"
      ]
     },
     "execution_count": 255,
     "metadata": {},
     "output_type": "execute_result"
    }
   ],
   "source": [
    "sum(df_tr['Kol4'])"
   ]
  },
  {
   "cell_type": "code",
   "execution_count": 256,
   "metadata": {},
   "outputs": [
    {
     "name": "stdout",
     "output_type": "stream",
     "text": [
      "<class 'pandas.core.frame.DataFrame'>\n",
      "RangeIndex: 5902 entries, 0 to 5901\n",
      "Data columns (total 7 columns):\n",
      " #   Column     Non-Null Count  Dtype  \n",
      "---  ------     --------------  -----  \n",
      " 0   date_ii    5902 non-null   object \n",
      " 1   Трафик     5902 non-null   float64\n",
      " 2   cсМагазин  5902 non-null   object \n",
      " 3   Summa_ii   5902 non-null   float64\n",
      " 4   Kol4       5902 non-null   int64  \n",
      " 5   sr4        5902 non-null   float64\n",
      " 6   konv       5902 non-null   float64\n",
      "dtypes: float64(4), int64(1), object(2)\n",
      "memory usage: 322.9+ KB\n"
     ]
    }
   ],
   "source": [
    "df_tr.info()"
   ]
  },
  {
   "cell_type": "code",
   "execution_count": 320,
   "metadata": {},
   "outputs": [],
   "source": [
    "sql=\"\"\"\n",
    "--------------план конверсии---------------------\n",
    "SELECT cast(dateadd(year,\n",
    "\t\t -2000,\n",
    "\t\t _Fld7062) AS date) AS Период,\n",
    "\t\t (d_v._Fld7072/100) AS Конверсия,\n",
    "\t\t cast(d_v._Fld7071RRef AS uniqueidentifier) AS ссМагазин\n",
    "FROM _Document302_VT7069 d_v left outer\n",
    "JOIN _Document302 d\n",
    "\tON d_v._Document302_idrref = d._idrref\n",
    "WHERE d._Marked = 0\n",
    "\t\tAND d._Posted=1\n",
    "--!!!!!!!!!!!!!!!!!!!!!!!!!!!!!!!!!!!!!!!!!!!!!!!!!!!\n",
    "        and _Fld7062 = '4021-08-01'\n",
    "--!!!!!!!!!!!!!!!!!!!!!!!!!!!!!!!!!!!!!!!!!!!!!!!!!!!!\n",
    "\"\"\""
   ]
  },
  {
   "cell_type": "markdown",
   "metadata": {},
   "source": [
    "conn.close()"
   ]
  },
  {
   "cell_type": "code",
   "execution_count": 321,
   "metadata": {},
   "outputs": [
    {
     "name": "stdout",
     "output_type": "stream",
     "text": [
      "Wall time: 56 ms\n"
     ]
    }
   ],
   "source": [
    "%%time\n",
    "df=read_sql(sql,base, server)\n"
   ]
  },
  {
   "cell_type": "code",
   "execution_count": 322,
   "metadata": {},
   "outputs": [
    {
     "data": {
      "text/html": [
       "<div>\n",
       "<style scoped>\n",
       "    .dataframe tbody tr th:only-of-type {\n",
       "        vertical-align: middle;\n",
       "    }\n",
       "\n",
       "    .dataframe tbody tr th {\n",
       "        vertical-align: top;\n",
       "    }\n",
       "\n",
       "    .dataframe thead th {\n",
       "        text-align: right;\n",
       "    }\n",
       "</style>\n",
       "<table border=\"1\" class=\"dataframe\">\n",
       "  <thead>\n",
       "    <tr style=\"text-align: right;\">\n",
       "      <th></th>\n",
       "      <th>Период</th>\n",
       "      <th>Конверсия</th>\n",
       "      <th>ссМагазин</th>\n",
       "    </tr>\n",
       "  </thead>\n",
       "  <tbody>\n",
       "    <tr>\n",
       "      <th>0</th>\n",
       "      <td>2021-08-01</td>\n",
       "      <td>0.0</td>\n",
       "      <td>4a3ccdba-7492-28df-11e4-34cd06df5674</td>\n",
       "    </tr>\n",
       "    <tr>\n",
       "      <th>1</th>\n",
       "      <td>2021-08-01</td>\n",
       "      <td>0.0</td>\n",
       "      <td>4a3cd4b8-7492-28df-11e5-decf120e76ce</td>\n",
       "    </tr>\n",
       "    <tr>\n",
       "      <th>2</th>\n",
       "      <td>2021-08-01</td>\n",
       "      <td>0.0</td>\n",
       "      <td>4a3cb8ae-7492-28df-11e3-63e1be18ea68</td>\n",
       "    </tr>\n",
       "    <tr>\n",
       "      <th>3</th>\n",
       "      <td>2021-08-01</td>\n",
       "      <td>0.0</td>\n",
       "      <td>4a3cb8ae-7492-28df-11e3-63e1be18ea7a</td>\n",
       "    </tr>\n",
       "    <tr>\n",
       "      <th>4</th>\n",
       "      <td>2021-08-01</td>\n",
       "      <td>0.0</td>\n",
       "      <td>4a3c90b8-7492-28df-11e1-8e081c40ef1a</td>\n",
       "    </tr>\n",
       "  </tbody>\n",
       "</table>\n",
       "</div>"
      ],
      "text/plain": [
       "       Период  Конверсия                             ссМагазин\n",
       "0  2021-08-01        0.0  4a3ccdba-7492-28df-11e4-34cd06df5674\n",
       "1  2021-08-01        0.0  4a3cd4b8-7492-28df-11e5-decf120e76ce\n",
       "2  2021-08-01        0.0  4a3cb8ae-7492-28df-11e3-63e1be18ea68\n",
       "3  2021-08-01        0.0  4a3cb8ae-7492-28df-11e3-63e1be18ea7a\n",
       "4  2021-08-01        0.0  4a3c90b8-7492-28df-11e1-8e081c40ef1a"
      ]
     },
     "execution_count": 322,
     "metadata": {},
     "output_type": "execute_result"
    }
   ],
   "source": [
    "df.head()\n"
   ]
  },
  {
   "cell_type": "code",
   "execution_count": null,
   "metadata": {},
   "outputs": [],
   "source": []
  }
 ],
 "metadata": {
  "kernelspec": {
   "display_name": "Python 3",
   "language": "python",
   "name": "python3"
  },
  "language_info": {
   "codemirror_mode": {
    "name": "ipython",
    "version": 3
   },
   "file_extension": ".py",
   "mimetype": "text/x-python",
   "name": "python",
   "nbconvert_exporter": "python",
   "pygments_lexer": "ipython3",
   "version": "3.7.6"
  }
 },
 "nbformat": 4,
 "nbformat_minor": 4
}
