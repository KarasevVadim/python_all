{
 "cells": [
  {
   "cell_type": "markdown",
   "metadata": {},
   "source": [
    "pip install pymssql \n",
    "\n"
   ]
  },
  {
   "cell_type": "code",
   "execution_count": 1,
   "metadata": {},
   "outputs": [],
   "source": [
    "import pandas as pd\n",
    "import pymssql "
   ]
  },
  {
   "cell_type": "code",
   "execution_count": 273,
   "metadata": {},
   "outputs": [],
   "source": [
    "server=\"SQL-retail2.nikamed.local\"\n",
    "base=\"Retail2_shops\""
   ]
  },
  {
   "cell_type": "code",
   "execution_count": 488,
   "metadata": {},
   "outputs": [],
   "source": [
    "sql=\"\"\"\n",
    "with mag_iskl as (\n",
    "SELECT CAST(_IDRRef AS uniqueidentifier) AS Ссылка, --исключение техн склада\n",
    "_IDRRef, \n",
    "_Code AS Код\n",
    "FROM _Reference10\n",
    "where _Code='0-002'\n",
    "),\n",
    "--------------------------------------исх продажи-----------------------\n",
    "sales_ish as (\n",
    "select \n",
    "       cast(dateadd(year, -2000, d21._date_time) as date) as Дата , \n",
    "       cast(d21._number as varchar(20))+'_'+ cast(dateadd(year, -2000, d21._date_time) as varchar(50)) as  'НомерЧекаККМ',  \n",
    "       iif(e._EnumOrder=1,-1,1) as 'ВидОперации'\n",
    "       ,iif(e._EnumOrder=1, -d21t._Fld6384, d21t._Fld6384 ) as 'Количество'\n",
    "       ,iif(e._EnumOrder=1, -d21t._Fld6397, d21t._Fld6397) as 'Сумма'\n",
    "              , cast(r10._idrref as uniqueidentifier) as 'ccМагазин'\n",
    "       , iif(r2_10._Code is null, cast(r10._idrref as uniqueidentifier), \n",
    "                                  cast(r2_10._idrref as uniqueidentifier) ) as 'ccМагазинМотивационный'\n",
    "from _Document21_VT6378 d21t\n",
    "left outer join _Document21 d21 on d21t._Document21_IDRRef = d21._IDRRef /*исх чек*/\n",
    "LEFT OUTER JOIN _reference47 r47 ON d21._Fld6331RRef = r47._idrref /*вид документа*/\n",
    "LEFT OUTER JOIN _Enum352 e ON d21._Fld6333RRef = e._idrref /*вид документа в перечислениях чека ккм - 0-продажа, 1-возврат*/\n",
    "left outer join _Reference10 r10 on d21._Fld6339RRef = r10._idrref /*shop*/\n",
    "left outer join  _Document21 d2_21 on d21._Fld6353RRef=d2_21._idrref /*поиск мотив маг*/\n",
    "left outer join _Reference10 r2_10 on d2_21._Fld6339RRef = r2_10._idrref /*shop*/\n",
    "where d21._marked = 0 and d21._Posted = 1\n",
    "and d21._date_time >= '08.01.4021' \n",
    "union all\n",
    "select \n",
    "       cast(dateadd(year, -2000, d._date_time) as date) as 'Дата', \n",
    "        cast(d._number as varchar(20))+'_'+ cast(dateadd(year, -2000, d._date_time) as varchar(50)) as  'НомерЧекаККМ',      \n",
    "        -1\n",
    "       , -dt._Fld3984 as 'Количество'\n",
    "       , -dt._Fld3988 as 'СуммаЧека'\n",
    "       , cast(r10._idrref as uniqueidentifier) as 'ccМагазин'\n",
    "       , iif(r2_10._Code is null, cast(r10._idrref as uniqueidentifier), cast(r2_10._idrref as uniqueidentifier) ) as 'ccМагазинМотивационный'\n",
    "from _Document216_VT3980 dt\n",
    "left outer join _Document216 d on dt._Document216_IDRRef = d._IDRRef /*исх возвратный чек*/\n",
    "left outer join _Reference10 r10 on d._Fld3950RRef = r10._idrref /*shop*/\n",
    "left outer join  _Reference172 r172  on dt._Fld4001RRef = r172._idrref\n",
    "left outer join  _Reference23 r23  on dt._Fld3982RRef = r23._idrref\n",
    "left outer join _Reference131 r131 on d._Fld11137RRef= r131._idrref --  склады\n",
    "left outer join _Reference10 r2_10 on r131._Fld2686RRef = r2_10._idrref /*shop к складу*/\n",
    "where d._marked = 0 and d._Posted = 1\n",
    "and d._date_time >= '08.01.4021'\n",
    "),\n",
    "-------------суммарные продажи------------------------------------\n",
    "\n",
    "sales_sum2 as(\n",
    "SELECT \n",
    "\n",
    "Дата as date_ss, \n",
    "sum(Сумма) as Summa, \n",
    "ccМагазин, \n",
    "ccМагазинМотивационный,\n",
    "ВидОперации \n",
    "\n",
    "FROM sales_ish\n",
    "group by Дата,  ccМагазин,ccМагазинМотивационный,ВидОперации \n",
    "),\n",
    "-------------c кол чеков------------------------------------\n",
    "sales_sum as(\n",
    "SELECT  \n",
    "        date_ss, \n",
    "\n",
    "        ccМагазин, \n",
    "        ccМагазинМотивационный,\n",
    "        sum(Summa) as Summa, \n",
    "        sum(ВидОперации) as Kol4\n",
    "        \n",
    "FROM sales_sum2\n",
    "\n",
    "group by date_ss,  ccМагазин, ccМагазинМотивационный\n",
    ")\n",
    "\n",
    "\n",
    "\n",
    "SELECT \n",
    "cast(dateadd(year, -2000, i._fld10076) as date) AS date_ii,\n",
    "sum(_fld10077) AS Трафик,\n",
    "cast( r._Fld2907RRef as uniqueidentifier) AS cсМагазин,\n",
    "sum(sales_sum.Summa) as Summa_ii,\n",
    "sum(Kol4) as Kol4\n",
    "FROM _InfoRg10074 i \n",
    "\n",
    "\n",
    "left outer JOIN _reference142 r ON i._Fld10075RRef = r._IDRRef\n",
    "left outer join mag_iskl mi on r._Fld2907RRef=mi._IDRRef\n",
    "left outer join sales_sum  on sales_sum.date_ss=(cast(dateadd(year, -2000, i._fld10076) as date)) \n",
    "        and sales_sum.ccМагазин=cast( r._Fld2907RRef as uniqueidentifier)\n",
    "\n",
    "WHERE i._fld10076 > '08.01.4021'\n",
    "AND _fld10077 > 0\n",
    "and mi._IDRRef is null\n",
    "group by cast(dateadd(year, -2000, i._fld10076) as date) , cast( r._Fld2907RRef as uniqueidentifier)\n",
    "\"\"\""
   ]
  },
  {
   "cell_type": "code",
   "execution_count": 489,
   "metadata": {},
   "outputs": [],
   "source": [
    "def read_sql(sql,base, serv):\n",
    "    #with pymssql.connect(server=serv ,database = base ,charset =  'cp1251') as  conn:\n",
    "    with pymssql.connect(server=serv ,charset =  'cp1251',database = base ) as  conn:                  \n",
    "    \n",
    "        cursor = conn.cursor()  \n",
    "        df = pd.read_sql( sql,conn)\n",
    "    return df"
   ]
  },
  {
   "cell_type": "code",
   "execution_count": 490,
   "metadata": {},
   "outputs": [
    {
     "name": "stdout",
     "output_type": "stream",
     "text": [
      "Wall time: 3.89 s\n"
     ]
    }
   ],
   "source": [
    "%%time\n",
    "df_tr=read_sql(sql,base, server)"
   ]
  },
  {
   "cell_type": "code",
   "execution_count": 491,
   "metadata": {},
   "outputs": [
    {
     "data": {
      "text/plain": [
       "467.0"
      ]
     },
     "execution_count": 491,
     "metadata": {},
     "output_type": "execute_result"
    }
   ],
   "source": [
    "sum(df_tr['Трафик'].head())\n"
   ]
  },
  {
   "cell_type": "code",
   "execution_count": 492,
   "metadata": {},
   "outputs": [
    {
     "data": {
      "text/plain": [
       "nan"
      ]
     },
     "execution_count": 492,
     "metadata": {},
     "output_type": "execute_result"
    }
   ],
   "source": [
    "sum(df_tr['Kol4'].head(1000))"
   ]
  },
  {
   "cell_type": "code",
   "execution_count": 493,
   "metadata": {},
   "outputs": [
    {
     "name": "stdout",
     "output_type": "stream",
     "text": [
      "<class 'pandas.core.frame.DataFrame'>\n",
      "RangeIndex: 11436 entries, 0 to 11435\n",
      "Data columns (total 5 columns):\n",
      " #   Column     Non-Null Count  Dtype  \n",
      "---  ------     --------------  -----  \n",
      " 0   date_ii    11436 non-null  object \n",
      " 1   Трафик     11436 non-null  float64\n",
      " 2   cсМагазин  11436 non-null  object \n",
      " 3   Summa_ii   11432 non-null  float64\n",
      " 4   Kol4       11432 non-null  float64\n",
      "dtypes: float64(3), object(2)\n",
      "memory usage: 446.8+ KB\n"
     ]
    }
   ],
   "source": [
    "df_tr.info()"
   ]
  },
  {
   "cell_type": "markdown",
   "metadata": {},
   "source": [
    "conn.close()"
   ]
  },
  {
   "cell_type": "code",
   "execution_count": 95,
   "metadata": {},
   "outputs": [
    {
     "name": "stdout",
     "output_type": "stream",
     "text": [
      "Wall time: 540 ms\n"
     ]
    }
   ],
   "source": [
    "%%time\n",
    "df_tr=read_sql(sql,base, server)\n"
   ]
  },
  {
   "cell_type": "code",
   "execution_count": 96,
   "metadata": {},
   "outputs": [
    {
     "data": {
      "text/plain": [
       "690385.0"
      ]
     },
     "execution_count": 96,
     "metadata": {},
     "output_type": "execute_result"
    }
   ],
   "source": [
    "sum(df_tr['Трафик'])"
   ]
  },
  {
   "cell_type": "code",
   "execution_count": 458,
   "metadata": {},
   "outputs": [
    {
     "data": {
      "text/html": [
       "<div>\n",
       "<style scoped>\n",
       "    .dataframe tbody tr th:only-of-type {\n",
       "        vertical-align: middle;\n",
       "    }\n",
       "\n",
       "    .dataframe tbody tr th {\n",
       "        vertical-align: top;\n",
       "    }\n",
       "\n",
       "    .dataframe thead th {\n",
       "        text-align: right;\n",
       "    }\n",
       "</style>\n",
       "<table border=\"1\" class=\"dataframe\">\n",
       "  <thead>\n",
       "    <tr style=\"text-align: right;\">\n",
       "      <th></th>\n",
       "      <th>date_ii</th>\n",
       "      <th>Трафик</th>\n",
       "      <th>cсМагазин</th>\n",
       "      <th>Summa_ii</th>\n",
       "      <th>Kol4</th>\n",
       "    </tr>\n",
       "  </thead>\n",
       "  <tbody>\n",
       "    <tr>\n",
       "      <th>0</th>\n",
       "      <td>2021-08-30</td>\n",
       "      <td>55.0</td>\n",
       "      <td>1500fa8c-015d-0443-11e9-82b89e2126a9</td>\n",
       "      <td>872794.0</td>\n",
       "      <td>26.0</td>\n",
       "    </tr>\n",
       "    <tr>\n",
       "      <th>1</th>\n",
       "      <td>2021-09-04</td>\n",
       "      <td>72.0</td>\n",
       "      <td>4a3ced86-7492-28df-11e6-dd56e64b7598</td>\n",
       "      <td>842890.0</td>\n",
       "      <td>0.0</td>\n",
       "    </tr>\n",
       "    <tr>\n",
       "      <th>2</th>\n",
       "      <td>2021-09-20</td>\n",
       "      <td>73.0</td>\n",
       "      <td>1500538f-015d-032a-11eb-1464e106fc37</td>\n",
       "      <td>1926944.0</td>\n",
       "      <td>32.0</td>\n",
       "    </tr>\n",
       "    <tr>\n",
       "      <th>3</th>\n",
       "      <td>2021-09-18</td>\n",
       "      <td>15.0</td>\n",
       "      <td>1500c98c-015d-0443-11e9-5f8f30006ccb</td>\n",
       "      <td>161940.0</td>\n",
       "      <td>12.0</td>\n",
       "    </tr>\n",
       "    <tr>\n",
       "      <th>4</th>\n",
       "      <td>2021-09-23</td>\n",
       "      <td>42.0</td>\n",
       "      <td>4a3cc085-7492-28df-11e6-137b34be108f</td>\n",
       "      <td>583395.0</td>\n",
       "      <td>23.0</td>\n",
       "    </tr>\n",
       "  </tbody>\n",
       "</table>\n",
       "</div>"
      ],
      "text/plain": [
       "      date_ii  Трафик                             cсМагазин   Summa_ii  Kol4\n",
       "0  2021-08-30    55.0  1500fa8c-015d-0443-11e9-82b89e2126a9   872794.0  26.0\n",
       "1  2021-09-04    72.0  4a3ced86-7492-28df-11e6-dd56e64b7598   842890.0   0.0\n",
       "2  2021-09-20    73.0  1500538f-015d-032a-11eb-1464e106fc37  1926944.0  32.0\n",
       "3  2021-09-18    15.0  1500c98c-015d-0443-11e9-5f8f30006ccb   161940.0  12.0\n",
       "4  2021-09-23    42.0  4a3cc085-7492-28df-11e6-137b34be108f   583395.0  23.0"
      ]
     },
     "execution_count": 458,
     "metadata": {},
     "output_type": "execute_result"
    }
   ],
   "source": [
    "df_tr.head()\n"
   ]
  },
  {
   "cell_type": "code",
   "execution_count": 97,
   "metadata": {},
   "outputs": [
    {
     "data": {
      "text/html": [
       "<div>\n",
       "<style scoped>\n",
       "    .dataframe tbody tr th:only-of-type {\n",
       "        vertical-align: middle;\n",
       "    }\n",
       "\n",
       "    .dataframe tbody tr th {\n",
       "        vertical-align: top;\n",
       "    }\n",
       "\n",
       "    .dataframe thead th {\n",
       "        text-align: right;\n",
       "    }\n",
       "</style>\n",
       "<table border=\"1\" class=\"dataframe\">\n",
       "  <thead>\n",
       "    <tr style=\"text-align: right;\">\n",
       "      <th></th>\n",
       "      <th>date_ii</th>\n",
       "      <th>Трафик</th>\n",
       "      <th>cсМагазин</th>\n",
       "    </tr>\n",
       "  </thead>\n",
       "  <tbody>\n",
       "    <tr>\n",
       "      <th>0</th>\n",
       "      <td>2021-09-16</td>\n",
       "      <td>70.0</td>\n",
       "      <td>4a3ca086-7492-28df-11e1-26e56017ec38</td>\n",
       "    </tr>\n",
       "    <tr>\n",
       "      <th>1</th>\n",
       "      <td>2021-09-03</td>\n",
       "      <td>37.0</td>\n",
       "      <td>1500578d-015d-0b43-11e9-c998961af1c0</td>\n",
       "    </tr>\n",
       "    <tr>\n",
       "      <th>2</th>\n",
       "      <td>2021-08-23</td>\n",
       "      <td>83.0</td>\n",
       "      <td>4a3ced86-7492-28df-11e6-dd56e64b7598</td>\n",
       "    </tr>\n",
       "    <tr>\n",
       "      <th>3</th>\n",
       "      <td>2021-09-03</td>\n",
       "      <td>107.0</td>\n",
       "      <td>4a3ccdba-7492-28df-11e4-5b50ef7829d1</td>\n",
       "    </tr>\n",
       "    <tr>\n",
       "      <th>4</th>\n",
       "      <td>2021-09-11</td>\n",
       "      <td>49.0</td>\n",
       "      <td>4a3cc085-7492-28df-11e6-137b34be108f</td>\n",
       "    </tr>\n",
       "    <tr>\n",
       "      <th>...</th>\n",
       "      <td>...</td>\n",
       "      <td>...</td>\n",
       "      <td>...</td>\n",
       "    </tr>\n",
       "    <tr>\n",
       "      <th>11424</th>\n",
       "      <td>2021-08-12</td>\n",
       "      <td>46.0</td>\n",
       "      <td>1500458f-015d-032a-11eb-0c760711c161</td>\n",
       "    </tr>\n",
       "    <tr>\n",
       "      <th>11425</th>\n",
       "      <td>2021-09-27</td>\n",
       "      <td>43.0</td>\n",
       "      <td>4a3c3cb8-7492-28df-11e7-778fe6fa7541</td>\n",
       "    </tr>\n",
       "    <tr>\n",
       "      <th>11426</th>\n",
       "      <td>2021-08-14</td>\n",
       "      <td>42.0</td>\n",
       "      <td>4a3cf985-7492-28df-11e5-2c544f5c615a</td>\n",
       "    </tr>\n",
       "    <tr>\n",
       "      <th>11427</th>\n",
       "      <td>2021-09-03</td>\n",
       "      <td>36.0</td>\n",
       "      <td>1500808c-015d-0443-11e9-29fddcf9d848</td>\n",
       "    </tr>\n",
       "    <tr>\n",
       "      <th>11428</th>\n",
       "      <td>2021-08-27</td>\n",
       "      <td>63.0</td>\n",
       "      <td>4a3cfa88-7492-28df-11e3-ebdf0cc0e4a9</td>\n",
       "    </tr>\n",
       "  </tbody>\n",
       "</table>\n",
       "<p>11429 rows × 3 columns</p>\n",
       "</div>"
      ],
      "text/plain": [
       "          date_ii  Трафик                             cсМагазин\n",
       "0      2021-09-16    70.0  4a3ca086-7492-28df-11e1-26e56017ec38\n",
       "1      2021-09-03    37.0  1500578d-015d-0b43-11e9-c998961af1c0\n",
       "2      2021-08-23    83.0  4a3ced86-7492-28df-11e6-dd56e64b7598\n",
       "3      2021-09-03   107.0  4a3ccdba-7492-28df-11e4-5b50ef7829d1\n",
       "4      2021-09-11    49.0  4a3cc085-7492-28df-11e6-137b34be108f\n",
       "...           ...     ...                                   ...\n",
       "11424  2021-08-12    46.0  1500458f-015d-032a-11eb-0c760711c161\n",
       "11425  2021-09-27    43.0  4a3c3cb8-7492-28df-11e7-778fe6fa7541\n",
       "11426  2021-08-14    42.0  4a3cf985-7492-28df-11e5-2c544f5c615a\n",
       "11427  2021-09-03    36.0  1500808c-015d-0443-11e9-29fddcf9d848\n",
       "11428  2021-08-27    63.0  4a3cfa88-7492-28df-11e3-ebdf0cc0e4a9\n",
       "\n",
       "[11429 rows x 3 columns]"
      ]
     },
     "execution_count": 97,
     "metadata": {},
     "output_type": "execute_result"
    }
   ],
   "source": [
    "df_tr\n"
   ]
  },
  {
   "cell_type": "code",
   "execution_count": 460,
   "metadata": {},
   "outputs": [],
   "source": [
    "sql = \"\"\"\n",
    "with sales_ish as (\n",
    "select \n",
    "       cast(dateadd(year, -2000, d21._date_time) as date) as Дата , \n",
    "       cast(d21._number as varchar(20))+'_'+ cast(dateadd(year, -2000, d21._date_time) as varchar(50)) as  'НомерЧекаККМ',  \n",
    "       iif(e._EnumOrder=1,-1,1) as 'ВидОперации'\n",
    "       ,iif(e._EnumOrder=1, -d21t._Fld6384, d21t._Fld6384 ) as 'Количество'\n",
    "       ,iif(e._EnumOrder=1, -d21t._Fld6397, d21t._Fld6397) as 'Сумма'\n",
    "              , cast(r10._idrref as uniqueidentifier) as 'ccМагазин'\n",
    "       , iif(r2_10._Code is null, cast(r10._idrref as uniqueidentifier), \n",
    "                                  cast(r2_10._idrref as uniqueidentifier) ) as 'ccМагазинМотивационный'\n",
    "from _Document21_VT6378 d21t\n",
    "left outer join _Document21 d21 on d21t._Document21_IDRRef = d21._IDRRef /*исх чек*/\n",
    "LEFT OUTER JOIN _reference47 r47 ON d21._Fld6331RRef = r47._idrref /*вид документа*/\n",
    "LEFT OUTER JOIN _Enum352 e ON d21._Fld6333RRef = e._idrref /*вид документа в перечислениях чека ккм - 0-продажа, 1-возврат*/\n",
    "left outer join _Reference10 r10 on d21._Fld6339RRef = r10._idrref /*shop*/\n",
    "left outer join  _Document21 d2_21 on d21._Fld6353RRef=d2_21._idrref /*поиск мотив маг*/\n",
    "left outer join _Reference10 r2_10 on d2_21._Fld6339RRef = r2_10._idrref /*shop*/\n",
    "where d21._marked = 0 and d21._Posted = 1\n",
    "and d21._date_time >= '08.01.4021' \n",
    "union all\n",
    "select \n",
    "       cast(dateadd(year, -2000, d._date_time) as date) as 'Дата', \n",
    "        cast(d._number as varchar(20))+'_'+ cast(dateadd(year, -2000, d._date_time) as varchar(50)) as  'НомерЧекаККМ',      \n",
    "        -1\n",
    "       , -dt._Fld3984 as 'Количество'\n",
    "       , -dt._Fld3988 as 'СуммаЧека'\n",
    "       , cast(r10._idrref as uniqueidentifier) as 'ccМагазин'\n",
    "       , iif(r2_10._Code is null, cast(r10._idrref as uniqueidentifier), cast(r2_10._idrref as uniqueidentifier) ) as 'ccМагазинМотивационный'\n",
    "from _Document216_VT3980 dt\n",
    "left outer join _Document216 d on dt._Document216_IDRRef = d._IDRRef /*исх возвратный чек*/\n",
    "left outer join _Reference10 r10 on d._Fld3950RRef = r10._idrref /*shop*/\n",
    "left outer join  _Reference172 r172  on dt._Fld4001RRef = r172._idrref\n",
    "left outer join  _Reference23 r23  on dt._Fld3982RRef = r23._idrref\n",
    "left outer join _Reference131 r131 on d._Fld11137RRef= r131._idrref --  склады\n",
    "left outer join _Reference10 r2_10 on r131._Fld2686RRef = r2_10._idrref /*shop к складу*/\n",
    "where d._marked = 0 and d._Posted = 1\n",
    "and d._date_time >= '08.01.4021'\n",
    "),\n",
    "-------------суммарные продажи------------------------------------\n",
    "\n",
    "sales_sum2 as(\n",
    "SELECT Дата as date_ss, sum(Сумма) as Summa, ccМагазин, ccМагазинМотивационный,ВидОперации FROM sales_ish\n",
    "group by Дата,  ccМагазин,ccМагазинМотивационный,ВидОперации \n",
    ")\n",
    "-------------кол чеков------------------------------------\n",
    "SELECT  date_ss, sum(Summa) as Summa, \n",
    "        ccМагазин, \n",
    "        ccМагазинМотивационный,\n",
    "        sum(ВидОперации) as Kol4\n",
    "        \n",
    "FROM sales_sum2\n",
    "\n",
    "group by date_ss,  ccМагазин,ccМагазинМотивационный\n",
    "\n",
    "\"\"\""
   ]
  },
  {
   "cell_type": "code",
   "execution_count": 461,
   "metadata": {},
   "outputs": [],
   "source": [
    "def read_sql(sql,base, serv):\n",
    "    #with pymssql.connect(server=serv ,database = base ,charset =  'cp1251') as  conn:\n",
    "    with pymssql.connect(server=serv ,database = base,charset =  'cp1251' ) as  conn:                  \n",
    "    \n",
    "        cursor = conn.cursor()  \n",
    "        df = pd.read_sql( sql,conn)\n",
    "    return df"
   ]
  },
  {
   "cell_type": "code",
   "execution_count": 462,
   "metadata": {},
   "outputs": [
    {
     "name": "stdout",
     "output_type": "stream",
     "text": [
      "Wall time: 6.8 s\n"
     ]
    }
   ],
   "source": [
    "%%time\n",
    "df=read_sql(sql,base, server)"
   ]
  },
  {
   "cell_type": "code",
   "execution_count": 466,
   "metadata": {},
   "outputs": [
    {
     "name": "stdout",
     "output_type": "stream",
     "text": [
      "<class 'pandas.core.frame.DataFrame'>\n",
      "RangeIndex: 13175 entries, 0 to 13174\n",
      "Data columns (total 5 columns):\n",
      " #   Column                  Non-Null Count  Dtype  \n",
      "---  ------                  --------------  -----  \n",
      " 0   date_ss                 13175 non-null  object \n",
      " 1   Summa                   13175 non-null  float64\n",
      " 2   ccМагазин               13175 non-null  object \n",
      " 3   ccМагазинМотивационный  13175 non-null  object \n",
      " 4   Kol4                    13175 non-null  int64  \n",
      "dtypes: float64(1), int64(1), object(3)\n",
      "memory usage: 514.8+ KB\n"
     ]
    }
   ],
   "source": [
    "df.info()"
   ]
  },
  {
   "cell_type": "code",
   "execution_count": 463,
   "metadata": {},
   "outputs": [
    {
     "data": {
      "text/plain": [
       "1119209866.7600002"
      ]
     },
     "execution_count": 463,
     "metadata": {},
     "output_type": "execute_result"
    }
   ],
   "source": [
    "sum(df['Summa'])\n"
   ]
  },
  {
   "cell_type": "code",
   "execution_count": 464,
   "metadata": {},
   "outputs": [
    {
     "data": {
      "text/html": [
       "<div>\n",
       "<style scoped>\n",
       "    .dataframe tbody tr th:only-of-type {\n",
       "        vertical-align: middle;\n",
       "    }\n",
       "\n",
       "    .dataframe tbody tr th {\n",
       "        vertical-align: top;\n",
       "    }\n",
       "\n",
       "    .dataframe thead th {\n",
       "        text-align: right;\n",
       "    }\n",
       "</style>\n",
       "<table border=\"1\" class=\"dataframe\">\n",
       "  <thead>\n",
       "    <tr style=\"text-align: right;\">\n",
       "      <th></th>\n",
       "      <th>date_ss</th>\n",
       "      <th>Summa</th>\n",
       "      <th>ccМагазин</th>\n",
       "      <th>ccМагазинМотивационный</th>\n",
       "      <th>Kol4</th>\n",
       "    </tr>\n",
       "  </thead>\n",
       "  <tbody>\n",
       "    <tr>\n",
       "      <th>0</th>\n",
       "      <td>2021-08-04</td>\n",
       "      <td>82034.0</td>\n",
       "      <td>1500808c-015d-0443-11e9-29f23582b382</td>\n",
       "      <td>1500808c-015d-0443-11e9-29f23582b382</td>\n",
       "      <td>1</td>\n",
       "    </tr>\n",
       "    <tr>\n",
       "      <th>1</th>\n",
       "      <td>2021-08-07</td>\n",
       "      <td>126347.0</td>\n",
       "      <td>1500e38c-015d-0443-11e9-719a6d905a8c</td>\n",
       "      <td>1500e38c-015d-0443-11e9-719a6d905a8c</td>\n",
       "      <td>1</td>\n",
       "    </tr>\n",
       "    <tr>\n",
       "      <th>2</th>\n",
       "      <td>2021-08-29</td>\n",
       "      <td>80027.0</td>\n",
       "      <td>1500458f-015d-032a-11eb-0c9223d638c8</td>\n",
       "      <td>1500458f-015d-032a-11eb-0c9223d638c8</td>\n",
       "      <td>1</td>\n",
       "    </tr>\n",
       "    <tr>\n",
       "      <th>3</th>\n",
       "      <td>2021-08-26</td>\n",
       "      <td>59295.0</td>\n",
       "      <td>4a3cb0b9-7492-28df-11e8-164073d5498d</td>\n",
       "      <td>4a3cb0b9-7492-28df-11e8-164073d5498d</td>\n",
       "      <td>1</td>\n",
       "    </tr>\n",
       "    <tr>\n",
       "      <th>4</th>\n",
       "      <td>2021-09-27</td>\n",
       "      <td>45302.0</td>\n",
       "      <td>4a3c70b9-7492-28df-11e6-cc0c3dc73e03</td>\n",
       "      <td>4a3c70b9-7492-28df-11e6-cc0c3dc73e03</td>\n",
       "      <td>1</td>\n",
       "    </tr>\n",
       "    <tr>\n",
       "      <th>...</th>\n",
       "      <td>...</td>\n",
       "      <td>...</td>\n",
       "      <td>...</td>\n",
       "      <td>...</td>\n",
       "      <td>...</td>\n",
       "    </tr>\n",
       "    <tr>\n",
       "      <th>13170</th>\n",
       "      <td>2021-09-18</td>\n",
       "      <td>64580.5</td>\n",
       "      <td>11008787-72d8-8824-11de-d377741509e2</td>\n",
       "      <td>11008787-72d8-8824-11de-d377741509e2</td>\n",
       "      <td>0</td>\n",
       "    </tr>\n",
       "    <tr>\n",
       "      <th>13171</th>\n",
       "      <td>2021-08-24</td>\n",
       "      <td>56130.0</td>\n",
       "      <td>4a3c4086-7492-28df-11e5-b9d44d821aec</td>\n",
       "      <td>4a3c4086-7492-28df-11e5-b9d44d821aec</td>\n",
       "      <td>1</td>\n",
       "    </tr>\n",
       "    <tr>\n",
       "      <th>13172</th>\n",
       "      <td>2021-09-26</td>\n",
       "      <td>114940.0</td>\n",
       "      <td>4a3cc085-7492-28df-11e6-137b34be108f</td>\n",
       "      <td>4a3cc085-7492-28df-11e6-137b34be108f</td>\n",
       "      <td>1</td>\n",
       "    </tr>\n",
       "    <tr>\n",
       "      <th>13173</th>\n",
       "      <td>2021-08-27</td>\n",
       "      <td>52269.0</td>\n",
       "      <td>4a3ced86-7492-28df-11e6-dd53a25ffe10</td>\n",
       "      <td>4a3ced86-7492-28df-11e6-dd53a25ffe10</td>\n",
       "      <td>0</td>\n",
       "    </tr>\n",
       "    <tr>\n",
       "      <th>13174</th>\n",
       "      <td>2021-08-22</td>\n",
       "      <td>-9290.0</td>\n",
       "      <td>4a3c3d86-7492-28df-11e8-75f181037b39</td>\n",
       "      <td>4a3cc085-7492-28df-11e6-137b34be1093</td>\n",
       "      <td>-1</td>\n",
       "    </tr>\n",
       "  </tbody>\n",
       "</table>\n",
       "<p>13175 rows × 5 columns</p>\n",
       "</div>"
      ],
      "text/plain": [
       "          date_ss     Summa                             ccМагазин  \\\n",
       "0      2021-08-04   82034.0  1500808c-015d-0443-11e9-29f23582b382   \n",
       "1      2021-08-07  126347.0  1500e38c-015d-0443-11e9-719a6d905a8c   \n",
       "2      2021-08-29   80027.0  1500458f-015d-032a-11eb-0c9223d638c8   \n",
       "3      2021-08-26   59295.0  4a3cb0b9-7492-28df-11e8-164073d5498d   \n",
       "4      2021-09-27   45302.0  4a3c70b9-7492-28df-11e6-cc0c3dc73e03   \n",
       "...           ...       ...                                   ...   \n",
       "13170  2021-09-18   64580.5  11008787-72d8-8824-11de-d377741509e2   \n",
       "13171  2021-08-24   56130.0  4a3c4086-7492-28df-11e5-b9d44d821aec   \n",
       "13172  2021-09-26  114940.0  4a3cc085-7492-28df-11e6-137b34be108f   \n",
       "13173  2021-08-27   52269.0  4a3ced86-7492-28df-11e6-dd53a25ffe10   \n",
       "13174  2021-08-22   -9290.0  4a3c3d86-7492-28df-11e8-75f181037b39   \n",
       "\n",
       "                     ccМагазинМотивационный  Kol4  \n",
       "0      1500808c-015d-0443-11e9-29f23582b382     1  \n",
       "1      1500e38c-015d-0443-11e9-719a6d905a8c     1  \n",
       "2      1500458f-015d-032a-11eb-0c9223d638c8     1  \n",
       "3      4a3cb0b9-7492-28df-11e8-164073d5498d     1  \n",
       "4      4a3c70b9-7492-28df-11e6-cc0c3dc73e03     1  \n",
       "...                                     ...   ...  \n",
       "13170  11008787-72d8-8824-11de-d377741509e2     0  \n",
       "13171  4a3c4086-7492-28df-11e5-b9d44d821aec     1  \n",
       "13172  4a3cc085-7492-28df-11e6-137b34be108f     1  \n",
       "13173  4a3ced86-7492-28df-11e6-dd53a25ffe10     0  \n",
       "13174  4a3cc085-7492-28df-11e6-137b34be1093    -1  \n",
       "\n",
       "[13175 rows x 5 columns]"
      ]
     },
     "execution_count": 464,
     "metadata": {},
     "output_type": "execute_result"
    }
   ],
   "source": [
    "df"
   ]
  },
  {
   "cell_type": "code",
   "execution_count": 465,
   "metadata": {},
   "outputs": [
    {
     "data": {
      "text/plain": [
       "8196"
      ]
     },
     "execution_count": 465,
     "metadata": {},
     "output_type": "execute_result"
    }
   ],
   "source": [
    "sum(df['Kol4'])"
   ]
  },
  {
   "cell_type": "code",
   "execution_count": null,
   "metadata": {},
   "outputs": [],
   "source": [
    "df\n"
   ]
  },
  {
   "cell_type": "code",
   "execution_count": null,
   "metadata": {},
   "outputs": [],
   "source": []
  }
 ],
 "metadata": {
  "kernelspec": {
   "display_name": "Python 3",
   "language": "python",
   "name": "python3"
  },
  "language_info": {
   "codemirror_mode": {
    "name": "ipython",
    "version": 3
   },
   "file_extension": ".py",
   "mimetype": "text/x-python",
   "name": "python",
   "nbconvert_exporter": "python",
   "pygments_lexer": "ipython3",
   "version": "3.7.6"
  }
 },
 "nbformat": 4,
 "nbformat_minor": 4
}
