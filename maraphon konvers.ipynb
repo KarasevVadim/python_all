{
 "cells": [
  {
   "cell_type": "markdown",
   "metadata": {},
   "source": [
    "pip install pymssql \n",
    "\n"
   ]
  },
  {
   "cell_type": "code",
   "execution_count": 1,
   "metadata": {},
   "outputs": [],
   "source": [
    "import pandas as pd\n",
    "import pymssql "
   ]
  },
  {
   "cell_type": "code",
   "execution_count": 2,
   "metadata": {},
   "outputs": [],
   "source": [
    "server=\"SQL-retail2.nikamed.local\"\n",
    "base=\"Retail2_shops\""
   ]
  },
  {
   "cell_type": "code",
   "execution_count": 101,
   "metadata": {},
   "outputs": [],
   "source": [
    "sql=\"\"\"\n",
    "with mag_iskl as (\n",
    "SELECT CAST(_IDRRef AS uniqueidentifier) AS Ссылка, --исключение техн склада\n",
    "_IDRRef, \n",
    "_Code AS Код\n",
    "FROM _Reference10\n",
    "where _Code='0-002'\n",
    "),\n",
    "--------------------------------------исх продажи-----------------------\n",
    "sales_ish as (\n",
    "select \n",
    "       cast(dateadd(year, -2000, d21._date_time) as date) as Дата , \n",
    "         \n",
    "       \n",
    "       iif(e._EnumOrder=1,'ВозвратДВД','Продажи') as 'ВидОперации'\n",
    "       ,iif(e._EnumOrder=1, -d21t._Fld6384, d21t._Fld6384 ) as 'Количество'\n",
    "       ,iif(e._EnumOrder=1, -d21t._Fld6397, d21t._Fld6397) as 'Сумма'\n",
    "        \n",
    "              , cast(r10._idrref as uniqueidentifier) as 'ccМагазин'\n",
    "        \n",
    "       , iif(r2_10._Code is null, cast(r10._idrref as uniqueidentifier), \n",
    "                                  cast(r2_10._idrref as uniqueidentifier) ) as 'ccМагазинМотивационный'\n",
    "        \n",
    "\n",
    "from _Document21_VT6378 d21t\n",
    "\n",
    "left outer join _Document21 d21 on d21t._Document21_IDRRef = d21._IDRRef /*исх чек*/\n",
    "\n",
    "LEFT OUTER JOIN _reference47 r47 ON d21._Fld6331RRef = r47._idrref /*вид документа*/\n",
    "LEFT OUTER JOIN _Enum352 e ON d21._Fld6333RRef = e._idrref /*вид документа в перечислениях чека ккм - 0-продажа, 1-возврат*/\n",
    "\n",
    "left outer join _Reference10 r10 on d21._Fld6339RRef = r10._idrref /*shop*/\n",
    "\n",
    "\n",
    "left outer join  _Document21 d2_21 on d21._Fld6353RRef=d2_21._idrref /*поиск мотив маг*/\n",
    "left outer join _Reference10 r2_10 on d2_21._Fld6339RRef = r2_10._idrref /*shop*/\n",
    "\n",
    "where d21._marked = 0 and d21._Posted = 1\n",
    "and d21._date_time >= '08.01.4021' \n",
    "\n",
    "\n",
    "union all\n",
    "\n",
    "select \n",
    "       cast(dateadd(year, -2000, d._date_time) as date) as 'Дата', \n",
    "       \n",
    "        N'Возврат'\n",
    "       , -dt._Fld3984 as 'Количество'\n",
    "       , -dt._Fld3988 as 'СуммаЧека'\n",
    "       \n",
    "       , cast(r10._idrref as uniqueidentifier) as 'ccМагазин'\n",
    "        \n",
    "       , iif(r2_10._Code is null, cast(r10._idrref as uniqueidentifier), cast(r2_10._idrref as uniqueidentifier) ) as 'ccМагазинМотивационный'\n",
    "        \n",
    "\n",
    "from _Document216_VT3980 dt\n",
    "\n",
    "left outer join _Document216 d on dt._Document216_IDRRef = d._IDRRef /*исх возвратный чек*/\n",
    "\n",
    "left outer join _Reference10 r10 on d._Fld3950RRef = r10._idrref /*shop*/\n",
    "left outer join  _Reference172 r172  on dt._Fld4001RRef = r172._idrref\n",
    "left outer join  _Reference23 r23  on dt._Fld3982RRef = r23._idrref\n",
    "\n",
    "\n",
    "left outer join _Reference131 r131 on d._Fld11137RRef= r131._idrref --  склады\n",
    "left outer join _Reference10 r2_10 on r131._Fld2686RRef = r2_10._idrref /*shop к складу*/\n",
    "\n",
    "where d._marked = 0 and d._Posted = 1\n",
    "and d._date_time >= '08.01.4021'\n",
    "),\n",
    "-------------суммарные продажи------------------------------------\n",
    "sales_sum  as(\n",
    "SELECT Дата as date_ss, sum(Сумма) as Summa, ccМагазин, ccМагазинМотивационный FROM sales_ish\n",
    "group by Дата,  ccМагазин,ccМагазинМотивационный\n",
    ")\n",
    "\n",
    "\n",
    "SELECT \n",
    "cast(dateadd(year, -2000, i._fld10076) as date) AS date_ii,\n",
    "sum(_fld10077) AS Трафик,\n",
    "cast( r._Fld2907RRef as uniqueidentifier) AS cсМагазин,\n",
    "sum(sales_sum.Summa) as Summa_ii\n",
    "\n",
    "FROM _InfoRg10074 i \n",
    "\n",
    "\n",
    "left outer JOIN _reference142 r ON i._Fld10075RRef = r._IDRRef\n",
    "left outer join mag_iskl mi on r._Fld2907RRef=mi._IDRRef\n",
    "left outer join sales_sum  on sales_sum.date_ss=(cast(dateadd(year, -2000, i._fld10076) as date)) \n",
    "        and sales_sum.ccМагазин=cast( r._Fld2907RRef as uniqueidentifier)\n",
    "\n",
    "WHERE i._fld10076 > '08.01.4021'\n",
    "AND _fld10077 > 0\n",
    "and mi._IDRRef is null\n",
    "group by cast(dateadd(year, -2000, i._fld10076) as date) , cast( r._Fld2907RRef as uniqueidentifier)\n",
    "\"\"\""
   ]
  },
  {
   "cell_type": "code",
   "execution_count": 102,
   "metadata": {},
   "outputs": [],
   "source": [
    "def read_sql(sql,base, serv):\n",
    "    #with pymssql.connect(server=serv ,database = base ,charset =  'cp1251') as  conn:\n",
    "    with pymssql.connect(server=serv ,charset =  'cp1251',database = base ) as  conn:                  \n",
    "    \n",
    "        cursor = conn.cursor()  \n",
    "        df = pd.read_sql( sql,conn)\n",
    "    return df"
   ]
  },
  {
   "cell_type": "code",
   "execution_count": 103,
   "metadata": {},
   "outputs": [
    {
     "name": "stdout",
     "output_type": "stream",
     "text": [
      "Wall time: 3.87 s\n"
     ]
    }
   ],
   "source": [
    "%%time\n",
    "df_tr=read_sql(sql,base, server)"
   ]
  },
  {
   "cell_type": "code",
   "execution_count": 104,
   "metadata": {},
   "outputs": [
    {
     "data": {
      "text/plain": [
       "718743.0"
      ]
     },
     "execution_count": 104,
     "metadata": {},
     "output_type": "execute_result"
    }
   ],
   "source": [
    "sum(df_tr['Трафик'])"
   ]
  },
  {
   "cell_type": "code",
   "execution_count": 105,
   "metadata": {},
   "outputs": [
    {
     "data": {
      "text/html": [
       "<div>\n",
       "<style scoped>\n",
       "    .dataframe tbody tr th:only-of-type {\n",
       "        vertical-align: middle;\n",
       "    }\n",
       "\n",
       "    .dataframe tbody tr th {\n",
       "        vertical-align: top;\n",
       "    }\n",
       "\n",
       "    .dataframe thead th {\n",
       "        text-align: right;\n",
       "    }\n",
       "</style>\n",
       "<table border=\"1\" class=\"dataframe\">\n",
       "  <thead>\n",
       "    <tr style=\"text-align: right;\">\n",
       "      <th></th>\n",
       "      <th>date_ii</th>\n",
       "      <th>Трафик</th>\n",
       "      <th>cсМагазин</th>\n",
       "      <th>Summa_ii</th>\n",
       "    </tr>\n",
       "  </thead>\n",
       "  <tbody>\n",
       "    <tr>\n",
       "      <th>0</th>\n",
       "      <td>2021-09-13</td>\n",
       "      <td>61.0</td>\n",
       "      <td>4a3ced86-7492-28df-11e6-dd53a25ffe10</td>\n",
       "      <td>1093400.0</td>\n",
       "    </tr>\n",
       "    <tr>\n",
       "      <th>1</th>\n",
       "      <td>2021-08-05</td>\n",
       "      <td>44.0</td>\n",
       "      <td>4a3c988b-7492-28df-11e5-6cc2b15a7e3a</td>\n",
       "      <td>1262447.0</td>\n",
       "    </tr>\n",
       "    <tr>\n",
       "      <th>2</th>\n",
       "      <td>2021-09-21</td>\n",
       "      <td>57.0</td>\n",
       "      <td>4a3c7b92-7492-28df-11e6-97839a976d1f</td>\n",
       "      <td>3126200.0</td>\n",
       "    </tr>\n",
       "    <tr>\n",
       "      <th>3</th>\n",
       "      <td>2021-08-11</td>\n",
       "      <td>47.0</td>\n",
       "      <td>1100b287-72d8-8824-11df-10ed9da89bc6</td>\n",
       "      <td>4828788.0</td>\n",
       "    </tr>\n",
       "    <tr>\n",
       "      <th>4</th>\n",
       "      <td>2021-08-31</td>\n",
       "      <td>9.0</td>\n",
       "      <td>4a3ced86-7492-28df-11e6-dd5b1cd79d07</td>\n",
       "      <td>169432.0</td>\n",
       "    </tr>\n",
       "    <tr>\n",
       "      <th>...</th>\n",
       "      <td>...</td>\n",
       "      <td>...</td>\n",
       "      <td>...</td>\n",
       "      <td>...</td>\n",
       "    </tr>\n",
       "    <tr>\n",
       "      <th>11424</th>\n",
       "      <td>2021-09-19</td>\n",
       "      <td>47.0</td>\n",
       "      <td>4a3cafb9-7492-28df-11e7-203689cf9bf9</td>\n",
       "      <td>2428294.0</td>\n",
       "    </tr>\n",
       "    <tr>\n",
       "      <th>11425</th>\n",
       "      <td>2021-09-12</td>\n",
       "      <td>50.0</td>\n",
       "      <td>1500b98d-015d-002a-11ea-0a1f62408fe9</td>\n",
       "      <td>1083744.0</td>\n",
       "    </tr>\n",
       "    <tr>\n",
       "      <th>11426</th>\n",
       "      <td>2021-08-26</td>\n",
       "      <td>41.0</td>\n",
       "      <td>4a3cf985-7492-28df-11e5-2c544f5c615a</td>\n",
       "      <td>1532280.0</td>\n",
       "    </tr>\n",
       "    <tr>\n",
       "      <th>11427</th>\n",
       "      <td>2021-08-02</td>\n",
       "      <td>65.0</td>\n",
       "      <td>4a3c58b9-7492-28df-11e6-240486996548</td>\n",
       "      <td>3860544.0</td>\n",
       "    </tr>\n",
       "    <tr>\n",
       "      <th>11428</th>\n",
       "      <td>2021-09-06</td>\n",
       "      <td>59.0</td>\n",
       "      <td>15000f8d-015d-0443-11e9-91dc0bd5fdd6</td>\n",
       "      <td>1301225.0</td>\n",
       "    </tr>\n",
       "  </tbody>\n",
       "</table>\n",
       "<p>11429 rows × 4 columns</p>\n",
       "</div>"
      ],
      "text/plain": [
       "          date_ii  Трафик                             cсМагазин   Summa_ii\n",
       "0      2021-09-13    61.0  4a3ced86-7492-28df-11e6-dd53a25ffe10  1093400.0\n",
       "1      2021-08-05    44.0  4a3c988b-7492-28df-11e5-6cc2b15a7e3a  1262447.0\n",
       "2      2021-09-21    57.0  4a3c7b92-7492-28df-11e6-97839a976d1f  3126200.0\n",
       "3      2021-08-11    47.0  1100b287-72d8-8824-11df-10ed9da89bc6  4828788.0\n",
       "4      2021-08-31     9.0  4a3ced86-7492-28df-11e6-dd5b1cd79d07   169432.0\n",
       "...           ...     ...                                   ...        ...\n",
       "11424  2021-09-19    47.0  4a3cafb9-7492-28df-11e7-203689cf9bf9  2428294.0\n",
       "11425  2021-09-12    50.0  1500b98d-015d-002a-11ea-0a1f62408fe9  1083744.0\n",
       "11426  2021-08-26    41.0  4a3cf985-7492-28df-11e5-2c544f5c615a  1532280.0\n",
       "11427  2021-08-02    65.0  4a3c58b9-7492-28df-11e6-240486996548  3860544.0\n",
       "11428  2021-09-06    59.0  15000f8d-015d-0443-11e9-91dc0bd5fdd6  1301225.0\n",
       "\n",
       "[11429 rows x 4 columns]"
      ]
     },
     "execution_count": 105,
     "metadata": {},
     "output_type": "execute_result"
    }
   ],
   "source": [
    "df_tr"
   ]
  },
  {
   "cell_type": "markdown",
   "metadata": {},
   "source": [
    "conn.close()"
   ]
  },
  {
   "cell_type": "code",
   "execution_count": 95,
   "metadata": {},
   "outputs": [
    {
     "name": "stdout",
     "output_type": "stream",
     "text": [
      "Wall time: 540 ms\n"
     ]
    }
   ],
   "source": [
    "%%time\n",
    "df_tr=read_sql(sql,base, server)\n"
   ]
  },
  {
   "cell_type": "code",
   "execution_count": 96,
   "metadata": {},
   "outputs": [
    {
     "data": {
      "text/plain": [
       "690385.0"
      ]
     },
     "execution_count": 96,
     "metadata": {},
     "output_type": "execute_result"
    }
   ],
   "source": [
    "sum(df_tr['Трафик'])"
   ]
  },
  {
   "cell_type": "code",
   "execution_count": 97,
   "metadata": {},
   "outputs": [
    {
     "data": {
      "text/html": [
       "<div>\n",
       "<style scoped>\n",
       "    .dataframe tbody tr th:only-of-type {\n",
       "        vertical-align: middle;\n",
       "    }\n",
       "\n",
       "    .dataframe tbody tr th {\n",
       "        vertical-align: top;\n",
       "    }\n",
       "\n",
       "    .dataframe thead th {\n",
       "        text-align: right;\n",
       "    }\n",
       "</style>\n",
       "<table border=\"1\" class=\"dataframe\">\n",
       "  <thead>\n",
       "    <tr style=\"text-align: right;\">\n",
       "      <th></th>\n",
       "      <th>date_ii</th>\n",
       "      <th>Трафик</th>\n",
       "      <th>cсМагазин</th>\n",
       "    </tr>\n",
       "  </thead>\n",
       "  <tbody>\n",
       "    <tr>\n",
       "      <th>0</th>\n",
       "      <td>2021-09-16</td>\n",
       "      <td>70.0</td>\n",
       "      <td>4a3ca086-7492-28df-11e1-26e56017ec38</td>\n",
       "    </tr>\n",
       "    <tr>\n",
       "      <th>1</th>\n",
       "      <td>2021-09-03</td>\n",
       "      <td>37.0</td>\n",
       "      <td>1500578d-015d-0b43-11e9-c998961af1c0</td>\n",
       "    </tr>\n",
       "    <tr>\n",
       "      <th>2</th>\n",
       "      <td>2021-08-23</td>\n",
       "      <td>83.0</td>\n",
       "      <td>4a3ced86-7492-28df-11e6-dd56e64b7598</td>\n",
       "    </tr>\n",
       "    <tr>\n",
       "      <th>3</th>\n",
       "      <td>2021-09-03</td>\n",
       "      <td>107.0</td>\n",
       "      <td>4a3ccdba-7492-28df-11e4-5b50ef7829d1</td>\n",
       "    </tr>\n",
       "    <tr>\n",
       "      <th>4</th>\n",
       "      <td>2021-09-11</td>\n",
       "      <td>49.0</td>\n",
       "      <td>4a3cc085-7492-28df-11e6-137b34be108f</td>\n",
       "    </tr>\n",
       "    <tr>\n",
       "      <th>...</th>\n",
       "      <td>...</td>\n",
       "      <td>...</td>\n",
       "      <td>...</td>\n",
       "    </tr>\n",
       "    <tr>\n",
       "      <th>11424</th>\n",
       "      <td>2021-08-12</td>\n",
       "      <td>46.0</td>\n",
       "      <td>1500458f-015d-032a-11eb-0c760711c161</td>\n",
       "    </tr>\n",
       "    <tr>\n",
       "      <th>11425</th>\n",
       "      <td>2021-09-27</td>\n",
       "      <td>43.0</td>\n",
       "      <td>4a3c3cb8-7492-28df-11e7-778fe6fa7541</td>\n",
       "    </tr>\n",
       "    <tr>\n",
       "      <th>11426</th>\n",
       "      <td>2021-08-14</td>\n",
       "      <td>42.0</td>\n",
       "      <td>4a3cf985-7492-28df-11e5-2c544f5c615a</td>\n",
       "    </tr>\n",
       "    <tr>\n",
       "      <th>11427</th>\n",
       "      <td>2021-09-03</td>\n",
       "      <td>36.0</td>\n",
       "      <td>1500808c-015d-0443-11e9-29fddcf9d848</td>\n",
       "    </tr>\n",
       "    <tr>\n",
       "      <th>11428</th>\n",
       "      <td>2021-08-27</td>\n",
       "      <td>63.0</td>\n",
       "      <td>4a3cfa88-7492-28df-11e3-ebdf0cc0e4a9</td>\n",
       "    </tr>\n",
       "  </tbody>\n",
       "</table>\n",
       "<p>11429 rows × 3 columns</p>\n",
       "</div>"
      ],
      "text/plain": [
       "          date_ii  Трафик                             cсМагазин\n",
       "0      2021-09-16    70.0  4a3ca086-7492-28df-11e1-26e56017ec38\n",
       "1      2021-09-03    37.0  1500578d-015d-0b43-11e9-c998961af1c0\n",
       "2      2021-08-23    83.0  4a3ced86-7492-28df-11e6-dd56e64b7598\n",
       "3      2021-09-03   107.0  4a3ccdba-7492-28df-11e4-5b50ef7829d1\n",
       "4      2021-09-11    49.0  4a3cc085-7492-28df-11e6-137b34be108f\n",
       "...           ...     ...                                   ...\n",
       "11424  2021-08-12    46.0  1500458f-015d-032a-11eb-0c760711c161\n",
       "11425  2021-09-27    43.0  4a3c3cb8-7492-28df-11e7-778fe6fa7541\n",
       "11426  2021-08-14    42.0  4a3cf985-7492-28df-11e5-2c544f5c615a\n",
       "11427  2021-09-03    36.0  1500808c-015d-0443-11e9-29fddcf9d848\n",
       "11428  2021-08-27    63.0  4a3cfa88-7492-28df-11e3-ebdf0cc0e4a9\n",
       "\n",
       "[11429 rows x 3 columns]"
      ]
     },
     "execution_count": 97,
     "metadata": {},
     "output_type": "execute_result"
    }
   ],
   "source": [
    "df_tr\n"
   ]
  },
  {
   "cell_type": "code",
   "execution_count": null,
   "metadata": {},
   "outputs": [],
   "source": [
    "sql=\"\"\"\n",
    "\n",
    "\n",
    "with sales_ish as(\n",
    "select \n",
    "       cast(dateadd(year, -2000, d21._date_time) as date) as 'Дата' , \n",
    "         \n",
    "       \n",
    "       iif(e._EnumOrder=1,'ВозвратДВД','Продажи') as 'ВидОперации'\n",
    "       ,iif(e._EnumOrder=1, -d21t._Fld6384, d21t._Fld6384 ) as 'Количество'\n",
    "       ,iif(e._EnumOrder=1, -d21t._Fld6397, d21t._Fld6397) as 'Сумма'\n",
    "        \n",
    "              , cast(r10._idrref as uniqueidentifier) as 'ccМагазин'\n",
    "        \n",
    "       , iif(r2_10._Code is null, cast(r10._idrref as uniqueidentifier), \n",
    "                                  cast(r2_10._idrref as uniqueidentifier) ) as 'ccМагазинМотивационный'\n",
    "        \n",
    "\n",
    "from _Document21_VT6378 d21t\n",
    "\n",
    "left outer join _Document21 d21 on d21t._Document21_IDRRef = d21._IDRRef /*исх чек*/\n",
    "\n",
    "LEFT OUTER JOIN _reference47 r47 ON d21._Fld6331RRef = r47._idrref /*вид документа*/\n",
    "LEFT OUTER JOIN _Enum352 e ON d21._Fld6333RRef = e._idrref /*вид документа в перечислениях чека ккм - 0-продажа, 1-возврат*/\n",
    "\n",
    "left outer join _Reference10 r10 on d21._Fld6339RRef = r10._idrref /*shop*/\n",
    "\n",
    "\n",
    "left outer join  _Document21 d2_21 on d21._Fld6353RRef=d2_21._idrref /*поиск мотив маг*/\n",
    "left outer join _Reference10 r2_10 on d2_21._Fld6339RRef = r2_10._idrref /*shop*/\n",
    "\n",
    "where d21._marked = 0 and d21._Posted = 1\n",
    "and d21._date_time >= '08.01.4021' \n",
    "\n",
    "\n",
    "union all\n",
    "\n",
    "select \n",
    "       cast(dateadd(year, -2000, d._date_time) as date) as 'Дата', \n",
    "       \n",
    "        N'Возврат'\n",
    "       , -dt._Fld3984 as 'Количество'\n",
    "       , -dt._Fld3988 as 'СуммаЧека'\n",
    "       \n",
    "       , cast(r10._idrref as uniqueidentifier) as 'ccМагазин'\n",
    "        \n",
    "       , iif(r2_10._Code is null, cast(r10._idrref as uniqueidentifier), cast(r2_10._idrref as uniqueidentifier) ) as 'ccМагазинМотивационный'\n",
    "        \n",
    "\n",
    "from _Document216_VT3980 dt\n",
    "\n",
    "left outer join _Document216 d on dt._Document216_IDRRef = d._IDRRef /*исх возвратный чек*/\n",
    "\n",
    "left outer join _Reference10 r10 on d._Fld3950RRef = r10._idrref /*shop*/\n",
    "left outer join  _Reference172 r172  on dt._Fld4001RRef = r172._idrref\n",
    "left outer join  _Reference23 r23  on dt._Fld3982RRef = r23._idrref\n",
    "\n",
    "\n",
    "left outer join _Reference131 r131 on d._Fld11137RRef= r131._idrref --  склады\n",
    "left outer join _Reference10 r2_10 on r131._Fld2686RRef = r2_10._idrref /*shop к складу*/\n",
    "\n",
    "where d._marked = 0 and d._Posted = 1\n",
    "and d._date_time >= '08.01.4021'\n",
    "),\n",
    "-------------суммарные продажи------------------------------------\n",
    "sales_sum  as(\n",
    "SELECT Дата, sum(Сумма) as Summa, ccМагазин, ccМагазинМотивационный FROM sales_ish\n",
    "group by Дата,  ccМагазин,ccМагазинМотивационный\n",
    ")\n",
    "\n",
    "select * from sales_sum\n",
    "--select * from sales_ish\n",
    "\"\"\""
   ]
  },
  {
   "cell_type": "code",
   "execution_count": null,
   "metadata": {},
   "outputs": [],
   "source": [
    "def read_sql(sql,base, serv):\n",
    "    #with pymssql.connect(server=serv ,database = base ,charset =  'cp1251') as  conn:\n",
    "    with pymssql.connect(server=serv ,database = base ) as  conn:                  \n",
    "    \n",
    "        cursor = conn.cursor()  \n",
    "        df = pd.read_sql( sql,conn)\n",
    "    return df"
   ]
  },
  {
   "cell_type": "code",
   "execution_count": null,
   "metadata": {},
   "outputs": [],
   "source": [
    "%%time\n",
    "df=read_sql(sql,base, server)"
   ]
  },
  {
   "cell_type": "code",
   "execution_count": null,
   "metadata": {},
   "outputs": [],
   "source": [
    "sum(df['Summa'])\n"
   ]
  },
  {
   "cell_type": "code",
   "execution_count": null,
   "metadata": {},
   "outputs": [],
   "source": [
    "df"
   ]
  },
  {
   "cell_type": "code",
   "execution_count": null,
   "metadata": {},
   "outputs": [],
   "source": [
    "sum(df['Сумма'])"
   ]
  },
  {
   "cell_type": "code",
   "execution_count": null,
   "metadata": {},
   "outputs": [],
   "source": [
    "df\n"
   ]
  },
  {
   "cell_type": "code",
   "execution_count": null,
   "metadata": {},
   "outputs": [],
   "source": []
  }
 ],
 "metadata": {
  "kernelspec": {
   "display_name": "Python 3",
   "language": "python",
   "name": "python3"
  },
  "language_info": {
   "codemirror_mode": {
    "name": "ipython",
    "version": 3
   },
   "file_extension": ".py",
   "mimetype": "text/x-python",
   "name": "python",
   "nbconvert_exporter": "python",
   "pygments_lexer": "ipython3",
   "version": "3.7.6"
  }
 },
 "nbformat": 4,
 "nbformat_minor": 4
}
