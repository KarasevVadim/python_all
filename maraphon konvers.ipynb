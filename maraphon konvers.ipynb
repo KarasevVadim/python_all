{
 "cells": [
  {
   "cell_type": "markdown",
   "metadata": {},
   "source": [
    "pip install pymssql \n",
    "\n"
   ]
  },
  {
   "cell_type": "code",
   "execution_count": 1,
   "metadata": {},
   "outputs": [],
   "source": [
    "import pandas as pd\n",
    "import pymssql "
   ]
  },
  {
   "cell_type": "code",
   "execution_count": 2,
   "metadata": {},
   "outputs": [],
   "source": [
    "server=\"SQL-retail2.nikamed.local\"\n",
    "base=\"Retail2_shops\""
   ]
  },
  {
   "cell_type": "code",
   "execution_count": 637,
   "metadata": {},
   "outputs": [],
   "source": [
    "sql=\"\"\"\n",
    "with mag_iskl as (\n",
    "SELECT CAST(_IDRRef AS uniqueidentifier) AS Ссылка, --исключение техн склада\n",
    "_IDRRef, \n",
    "_Code AS Код\n",
    "FROM _Reference10\n",
    "where _Code='0-002'\n",
    "),\n",
    "--------------------------------------исх продажи-----------------------\n",
    "sales_ish as (\n",
    "select \n",
    "       cast(dateadd(year, -2000, d21._date_time) as date) as Дата , \n",
    "       cast(d21._number as varchar(20))+'_'+ cast(dateadd(year, -2000, d21._date_time) as varchar(50)) as  'НомерЧекаККМ',  \n",
    "       iif(e._EnumOrder=1,-1,1) as 'ВидОперации'\n",
    "       ,iif(e._EnumOrder=1, -d21t._Fld6384, d21t._Fld6384 ) as 'Количество'\n",
    "       ,iif(e._EnumOrder=1, -d21t._Fld6397, d21t._Fld6397) as 'Сумма'\n",
    "              , cast(r10._idrref as uniqueidentifier) as 'ccМагазин'\n",
    "       , iif(r2_10._Code is null, cast(r10._idrref as uniqueidentifier), \n",
    "                                  cast(r2_10._idrref as uniqueidentifier) ) as 'ccМагазинМотивационный'\n",
    "from _Document21_VT6378 d21t\n",
    "left outer join _Document21 d21 on d21t._Document21_IDRRef = d21._IDRRef /*исх чек*/\n",
    "LEFT OUTER JOIN _reference47 r47 ON d21._Fld6331RRef = r47._idrref /*вид документа*/\n",
    "LEFT OUTER JOIN _Enum352 e ON d21._Fld6333RRef = e._idrref /*вид документа в перечислениях чека ккм - 0-продажа, 1-возврат*/\n",
    "left outer join _Reference10 r10 on d21._Fld6339RRef = r10._idrref /*shop*/\n",
    "left outer join  _Document21 d2_21 on d21._Fld6353RRef=d2_21._idrref /*поиск мотив маг*/\n",
    "left outer join _Reference10 r2_10 on d2_21._Fld6339RRef = r2_10._idrref /*shop*/\n",
    "where d21._marked = 0 and d21._Posted = 1\n",
    "and d21._date_time >= '08.01.4021' and d21._date_time < '09.01.4021'\n",
    "union all\n",
    "select \n",
    "       cast(dateadd(year, -2000, d._date_time) as date) as 'Дата', \n",
    "        cast(d._number as varchar(20))+'_'+ cast(dateadd(year, -2000, d._date_time) as varchar(50)) as  'НомерЧекаККМ',      \n",
    "        -1\n",
    "       , -dt._Fld3984 as 'Количество'\n",
    "       , -dt._Fld3988 as 'СуммаЧека'\n",
    "       , cast(r10._idrref as uniqueidentifier) as 'ccМагазин'\n",
    "       , iif(r2_10._Code is null, cast(r10._idrref as uniqueidentifier), cast(r2_10._idrref as uniqueidentifier) ) as 'ccМагазинМотивационный'\n",
    "from _Document216_VT3980 dt\n",
    "left outer join _Document216 d on dt._Document216_IDRRef = d._IDRRef /*исх возвратный чек*/\n",
    "left outer join _Reference10 r10 on d._Fld3950RRef = r10._idrref /*shop*/\n",
    "left outer join  _Reference172 r172  on dt._Fld4001RRef = r172._idrref\n",
    "left outer join  _Reference23 r23  on dt._Fld3982RRef = r23._idrref\n",
    "left outer join _Reference131 r131 on d._Fld11137RRef= r131._idrref --  склады\n",
    "left outer join _Reference10 r2_10 on r131._Fld2686RRef = r2_10._idrref /*shop к складу*/\n",
    "where d._marked = 0 and d._Posted = 1\n",
    "and d._date_time >= '08.01.4021' and d._date_time  < '09.01.4021'\n",
    "),\n",
    "-------------суммарные продажи------------------------------------\n",
    "\n",
    "sales_sum2 as(\n",
    "SELECT \n",
    "\n",
    "Дата as date_ss, \n",
    "sum(Сумма) as Summa, \n",
    "ccМагазин, \n",
    "ccМагазинМотивационный,\n",
    "ВидОперации \n",
    "\n",
    "FROM sales_ish\n",
    "group by Дата,  ccМагазин,ccМагазинМотивационный,ВидОперации \n",
    "),\n",
    "-------------c кол чеков------------------------------------\n",
    "sales_sum as(\n",
    "SELECT  \n",
    "        date_ss, \n",
    "\n",
    "        ccМагазин, \n",
    "        ccМагазинМотивационный,\n",
    "        sum(Summa) as Summa, \n",
    "        sum(ВидОперации) as Kol4\n",
    "        \n",
    "FROM sales_sum2\n",
    "\n",
    "group by date_ss,  ccМагазин, ccМагазинМотивационный\n",
    "),\n",
    "-----------трафи группировка-----------------------------\n",
    "tr_gr as (\n",
    "SELECT cast(dateadd(year,-2000,i._fld10076) AS date) AS date_ii,\n",
    "\t\t sum(i._fld10077) AS Трафик,\n",
    "\t\t cast( r._Fld2907RRef AS uniqueidentifier) AS cсМагазин\n",
    "FROM _InfoRg10074 i \n",
    "\n",
    "left outer JOIN _reference142 r ON i._Fld10075RRef = r._IDRRef \n",
    "left outer JOIN mag_iskl mi ON r._Fld2907RRef=mi._IDRRef\n",
    "\n",
    "WHERE i._fld10076 >= '08.01.4021'\n",
    "\t\tAND i._fld10076 < '09.01.4021'\n",
    "\t\tAND i._fld10077 > 0\n",
    "\t\tAND mi._IDRRef is null\n",
    "GROUP BY  cast(dateadd(year, -2000, i._fld10076) AS date) , cast( r._Fld2907RRef AS uniqueidentifier)\n",
    ")\n",
    "---------------------------------------------------\n",
    "--select * from tr_gr\n",
    "\n",
    "SELECT tab.date_ii, tab.Трафик, tab.cсМагазин, sum(sales_sum.Summa) as Summa_ii, sum(iif(Kol4 is null,0,Kol4)) as Kol4\n",
    "\n",
    "FROM tr_gr tab\n",
    "\n",
    "left outer join sales_sum on sales_sum.date_ss=tab.date_ii and sales_sum.ccМагазин=tab.cсМагазин\n",
    "\n",
    "WHERE tab.date_ii >= '08.01.2021' and tab.date_ii < '09.01.2021'\n",
    "\n",
    "group by tab.date_ii , tab.cсМагазин, tab.Трафик\n",
    "\n",
    "\"\"\""
   ]
  },
  {
   "cell_type": "markdown",
   "metadata": {},
   "source": [
    "\n",
    "SELECT \n",
    "date_ii,\n",
    "Трафик,\n",
    "cсМагазин,\n",
    "sum(sales_sum.Summa) as Summa_ii,\n",
    "sum(Kol4) as Kol4\n",
    "\n",
    "FROM tr_gr tab\n",
    "\n",
    "\n",
    "\n",
    "left outer join sales_sum  on sales_sum.date_ss=tab.date_ii\n",
    "        and sales_sum.ccМагазин=tab.cсМагазин\n",
    "\n",
    "WHERE tab.date_ii >= '08.01.4021' and tab.date_ii < '09.01.4021'\n",
    "\n",
    "group by tab.date_ii , tab.cсМагазин"
   ]
  },
  {
   "cell_type": "code",
   "execution_count": 638,
   "metadata": {},
   "outputs": [],
   "source": [
    "def read_sql(sql,base, serv):\n",
    "    #with pymssql.connect(server=serv ,database = base ,charset =  'cp1251') as  conn:\n",
    "    with pymssql.connect(server=serv ,charset =  'cp1251',database = base ) as  conn:                  \n",
    "    \n",
    "        cursor = conn.cursor()  \n",
    "        df = pd.read_sql( sql,conn)\n",
    "    return df"
   ]
  },
  {
   "cell_type": "code",
   "execution_count": 639,
   "metadata": {},
   "outputs": [
    {
     "name": "stdout",
     "output_type": "stream",
     "text": [
      "Wall time: 4.42 s\n"
     ]
    }
   ],
   "source": [
    "%%time\n",
    "df_tr=read_sql(sql,base, server)"
   ]
  },
  {
   "cell_type": "code",
   "execution_count": 640,
   "metadata": {},
   "outputs": [
    {
     "data": {
      "text/html": [
       "<div>\n",
       "<style scoped>\n",
       "    .dataframe tbody tr th:only-of-type {\n",
       "        vertical-align: middle;\n",
       "    }\n",
       "\n",
       "    .dataframe tbody tr th {\n",
       "        vertical-align: top;\n",
       "    }\n",
       "\n",
       "    .dataframe thead th {\n",
       "        text-align: right;\n",
       "    }\n",
       "</style>\n",
       "<table border=\"1\" class=\"dataframe\">\n",
       "  <thead>\n",
       "    <tr style=\"text-align: right;\">\n",
       "      <th></th>\n",
       "      <th>date_ii</th>\n",
       "      <th>Трафик</th>\n",
       "      <th>cсМагазин</th>\n",
       "      <th>Summa_ii</th>\n",
       "      <th>Kol4</th>\n",
       "    </tr>\n",
       "  </thead>\n",
       "  <tbody>\n",
       "    <tr>\n",
       "      <th>0</th>\n",
       "      <td>2021-08-14</td>\n",
       "      <td>78.0</td>\n",
       "      <td>4a3cac86-7492-28df-11e3-b59ef2e6442e</td>\n",
       "      <td>178070.0</td>\n",
       "      <td>0</td>\n",
       "    </tr>\n",
       "    <tr>\n",
       "      <th>1</th>\n",
       "      <td>2021-08-31</td>\n",
       "      <td>62.0</td>\n",
       "      <td>4a3c988b-7492-28df-11e5-770a25365796</td>\n",
       "      <td>200847.0</td>\n",
       "      <td>0</td>\n",
       "    </tr>\n",
       "    <tr>\n",
       "      <th>2</th>\n",
       "      <td>2021-08-12</td>\n",
       "      <td>42.0</td>\n",
       "      <td>4a3ced86-7492-28df-11e6-dd5b1cd79d07</td>\n",
       "      <td>45328.0</td>\n",
       "      <td>1</td>\n",
       "    </tr>\n",
       "    <tr>\n",
       "      <th>3</th>\n",
       "      <td>2021-08-18</td>\n",
       "      <td>14.0</td>\n",
       "      <td>4a3cf1ae-7492-28df-11e7-50f49f928c49</td>\n",
       "      <td>45952.0</td>\n",
       "      <td>1</td>\n",
       "    </tr>\n",
       "    <tr>\n",
       "      <th>4</th>\n",
       "      <td>2021-08-25</td>\n",
       "      <td>52.0</td>\n",
       "      <td>4a3ccd94-7492-28df-11e7-03403f1f5c62</td>\n",
       "      <td>35524.0</td>\n",
       "      <td>1</td>\n",
       "    </tr>\n",
       "    <tr>\n",
       "      <th>...</th>\n",
       "      <td>...</td>\n",
       "      <td>...</td>\n",
       "      <td>...</td>\n",
       "      <td>...</td>\n",
       "      <td>...</td>\n",
       "    </tr>\n",
       "    <tr>\n",
       "      <th>5897</th>\n",
       "      <td>2021-08-16</td>\n",
       "      <td>66.0</td>\n",
       "      <td>1500968d-fa5d-1787-11e9-f5a349f316c2</td>\n",
       "      <td>60765.0</td>\n",
       "      <td>1</td>\n",
       "    </tr>\n",
       "    <tr>\n",
       "      <th>5898</th>\n",
       "      <td>2021-08-27</td>\n",
       "      <td>30.0</td>\n",
       "      <td>4a3c30ae-7492-28df-11e8-5d04362b975d</td>\n",
       "      <td>39249.0</td>\n",
       "      <td>1</td>\n",
       "    </tr>\n",
       "    <tr>\n",
       "      <th>5899</th>\n",
       "      <td>2021-08-29</td>\n",
       "      <td>87.0</td>\n",
       "      <td>4a3cac86-7492-28df-11e3-b59ef2e6442e</td>\n",
       "      <td>193820.0</td>\n",
       "      <td>0</td>\n",
       "    </tr>\n",
       "    <tr>\n",
       "      <th>5900</th>\n",
       "      <td>2021-08-14</td>\n",
       "      <td>49.0</td>\n",
       "      <td>4a3ca086-7492-28df-11e1-26e56017ec38</td>\n",
       "      <td>75850.0</td>\n",
       "      <td>1</td>\n",
       "    </tr>\n",
       "    <tr>\n",
       "      <th>5901</th>\n",
       "      <td>2021-08-06</td>\n",
       "      <td>91.0</td>\n",
       "      <td>4a3ce0b9-7492-28df-11e6-a64ec0db7732</td>\n",
       "      <td>83322.0</td>\n",
       "      <td>0</td>\n",
       "    </tr>\n",
       "  </tbody>\n",
       "</table>\n",
       "<p>5902 rows × 5 columns</p>\n",
       "</div>"
      ],
      "text/plain": [
       "         date_ii  Трафик                             cсМагазин  Summa_ii  Kol4\n",
       "0     2021-08-14    78.0  4a3cac86-7492-28df-11e3-b59ef2e6442e  178070.0     0\n",
       "1     2021-08-31    62.0  4a3c988b-7492-28df-11e5-770a25365796  200847.0     0\n",
       "2     2021-08-12    42.0  4a3ced86-7492-28df-11e6-dd5b1cd79d07   45328.0     1\n",
       "3     2021-08-18    14.0  4a3cf1ae-7492-28df-11e7-50f49f928c49   45952.0     1\n",
       "4     2021-08-25    52.0  4a3ccd94-7492-28df-11e7-03403f1f5c62   35524.0     1\n",
       "...          ...     ...                                   ...       ...   ...\n",
       "5897  2021-08-16    66.0  1500968d-fa5d-1787-11e9-f5a349f316c2   60765.0     1\n",
       "5898  2021-08-27    30.0  4a3c30ae-7492-28df-11e8-5d04362b975d   39249.0     1\n",
       "5899  2021-08-29    87.0  4a3cac86-7492-28df-11e3-b59ef2e6442e  193820.0     0\n",
       "5900  2021-08-14    49.0  4a3ca086-7492-28df-11e1-26e56017ec38   75850.0     1\n",
       "5901  2021-08-06    91.0  4a3ce0b9-7492-28df-11e6-a64ec0db7732   83322.0     0\n",
       "\n",
       "[5902 rows x 5 columns]"
      ]
     },
     "execution_count": 640,
     "metadata": {},
     "output_type": "execute_result"
    }
   ],
   "source": [
    "df_tr"
   ]
  },
  {
   "cell_type": "code",
   "execution_count": 641,
   "metadata": {},
   "outputs": [
    {
     "data": {
      "text/plain": [
       "373766.0"
      ]
     },
     "execution_count": 641,
     "metadata": {},
     "output_type": "execute_result"
    }
   ],
   "source": [
    "sum(df_tr['Трафик'])\n"
   ]
  },
  {
   "cell_type": "code",
   "execution_count": 642,
   "metadata": {},
   "outputs": [
    {
     "data": {
      "text/plain": [
       "3600"
      ]
     },
     "execution_count": 642,
     "metadata": {},
     "output_type": "execute_result"
    }
   ],
   "source": [
    "sum(df_tr['Kol4'])"
   ]
  },
  {
   "cell_type": "code",
   "execution_count": 546,
   "metadata": {},
   "outputs": [
    {
     "name": "stdout",
     "output_type": "stream",
     "text": [
      "<class 'pandas.core.frame.DataFrame'>\n",
      "RangeIndex: 5902 entries, 0 to 5901\n",
      "Data columns (total 3 columns):\n",
      " #   Column     Non-Null Count  Dtype  \n",
      "---  ------     --------------  -----  \n",
      " 0   date_ii    5902 non-null   object \n",
      " 1   Трафик     5902 non-null   float64\n",
      " 2   cсМагазин  5902 non-null   object \n",
      "dtypes: float64(1), object(2)\n",
      "memory usage: 138.5+ KB\n"
     ]
    }
   ],
   "source": [
    "df_tr.info()"
   ]
  },
  {
   "cell_type": "markdown",
   "metadata": {},
   "source": [
    "conn.close()"
   ]
  },
  {
   "cell_type": "code",
   "execution_count": 547,
   "metadata": {},
   "outputs": [
    {
     "name": "stdout",
     "output_type": "stream",
     "text": [
      "Wall time: 572 ms\n"
     ]
    }
   ],
   "source": [
    "%%time\n",
    "df_tr=read_sql(sql,base, server)\n"
   ]
  },
  {
   "cell_type": "code",
   "execution_count": 548,
   "metadata": {},
   "outputs": [
    {
     "data": {
      "text/plain": [
       "373766.0"
      ]
     },
     "execution_count": 548,
     "metadata": {},
     "output_type": "execute_result"
    }
   ],
   "source": [
    "sum(df_tr['Трафик'])"
   ]
  },
  {
   "cell_type": "code",
   "execution_count": 517,
   "metadata": {},
   "outputs": [
    {
     "data": {
      "text/html": [
       "<div>\n",
       "<style scoped>\n",
       "    .dataframe tbody tr th:only-of-type {\n",
       "        vertical-align: middle;\n",
       "    }\n",
       "\n",
       "    .dataframe tbody tr th {\n",
       "        vertical-align: top;\n",
       "    }\n",
       "\n",
       "    .dataframe thead th {\n",
       "        text-align: right;\n",
       "    }\n",
       "</style>\n",
       "<table border=\"1\" class=\"dataframe\">\n",
       "  <thead>\n",
       "    <tr style=\"text-align: right;\">\n",
       "      <th></th>\n",
       "      <th>date_ii</th>\n",
       "      <th>Трафик</th>\n",
       "      <th>cсМагазин</th>\n",
       "      <th>Summa_ii</th>\n",
       "      <th>Kol4</th>\n",
       "    </tr>\n",
       "  </thead>\n",
       "  <tbody>\n",
       "    <tr>\n",
       "      <th>0</th>\n",
       "      <td>2021-08-01</td>\n",
       "      <td>33.0</td>\n",
       "      <td>1500968d-fa5d-1787-11e9-f5758aa8bcda</td>\n",
       "      <td>1151430.0</td>\n",
       "      <td>21.0</td>\n",
       "    </tr>\n",
       "    <tr>\n",
       "      <th>1</th>\n",
       "      <td>2021-08-08</td>\n",
       "      <td>42.0</td>\n",
       "      <td>4a3c70b9-7492-28df-11e6-cc0a402e0a4e</td>\n",
       "      <td>1275260.0</td>\n",
       "      <td>20.0</td>\n",
       "    </tr>\n",
       "    <tr>\n",
       "      <th>2</th>\n",
       "      <td>2021-08-23</td>\n",
       "      <td>83.0</td>\n",
       "      <td>4a3ced86-7492-28df-11e6-dd56e64b7598</td>\n",
       "      <td>4681351.0</td>\n",
       "      <td>37.0</td>\n",
       "    </tr>\n",
       "    <tr>\n",
       "      <th>3</th>\n",
       "      <td>2021-08-17</td>\n",
       "      <td>76.0</td>\n",
       "      <td>4a3c3486-7492-28df-11e6-d2799913c154</td>\n",
       "      <td>9159216.0</td>\n",
       "      <td>0.0</td>\n",
       "    </tr>\n",
       "    <tr>\n",
       "      <th>4</th>\n",
       "      <td>2021-08-06</td>\n",
       "      <td>31.0</td>\n",
       "      <td>11008787-72d8-8824-11de-d377741509e0</td>\n",
       "      <td>1144260.0</td>\n",
       "      <td>18.0</td>\n",
       "    </tr>\n",
       "  </tbody>\n",
       "</table>\n",
       "</div>"
      ],
      "text/plain": [
       "      date_ii  Трафик                             cсМагазин   Summa_ii  Kol4\n",
       "0  2021-08-01    33.0  1500968d-fa5d-1787-11e9-f5758aa8bcda  1151430.0  21.0\n",
       "1  2021-08-08    42.0  4a3c70b9-7492-28df-11e6-cc0a402e0a4e  1275260.0  20.0\n",
       "2  2021-08-23    83.0  4a3ced86-7492-28df-11e6-dd56e64b7598  4681351.0  37.0\n",
       "3  2021-08-17    76.0  4a3c3486-7492-28df-11e6-d2799913c154  9159216.0   0.0\n",
       "4  2021-08-06    31.0  11008787-72d8-8824-11de-d377741509e0  1144260.0  18.0"
      ]
     },
     "execution_count": 517,
     "metadata": {},
     "output_type": "execute_result"
    }
   ],
   "source": [
    "df_tr.head()\n"
   ]
  },
  {
   "cell_type": "code",
   "execution_count": 518,
   "metadata": {},
   "outputs": [
    {
     "data": {
      "text/html": [
       "<div>\n",
       "<style scoped>\n",
       "    .dataframe tbody tr th:only-of-type {\n",
       "        vertical-align: middle;\n",
       "    }\n",
       "\n",
       "    .dataframe tbody tr th {\n",
       "        vertical-align: top;\n",
       "    }\n",
       "\n",
       "    .dataframe thead th {\n",
       "        text-align: right;\n",
       "    }\n",
       "</style>\n",
       "<table border=\"1\" class=\"dataframe\">\n",
       "  <thead>\n",
       "    <tr style=\"text-align: right;\">\n",
       "      <th></th>\n",
       "      <th>date_ii</th>\n",
       "      <th>Трафик</th>\n",
       "      <th>cсМагазин</th>\n",
       "      <th>Summa_ii</th>\n",
       "      <th>Kol4</th>\n",
       "    </tr>\n",
       "  </thead>\n",
       "  <tbody>\n",
       "    <tr>\n",
       "      <th>0</th>\n",
       "      <td>2021-08-01</td>\n",
       "      <td>33.0</td>\n",
       "      <td>1500968d-fa5d-1787-11e9-f5758aa8bcda</td>\n",
       "      <td>1151430.0</td>\n",
       "      <td>21.0</td>\n",
       "    </tr>\n",
       "    <tr>\n",
       "      <th>1</th>\n",
       "      <td>2021-08-08</td>\n",
       "      <td>42.0</td>\n",
       "      <td>4a3c70b9-7492-28df-11e6-cc0a402e0a4e</td>\n",
       "      <td>1275260.0</td>\n",
       "      <td>20.0</td>\n",
       "    </tr>\n",
       "    <tr>\n",
       "      <th>2</th>\n",
       "      <td>2021-08-23</td>\n",
       "      <td>83.0</td>\n",
       "      <td>4a3ced86-7492-28df-11e6-dd56e64b7598</td>\n",
       "      <td>4681351.0</td>\n",
       "      <td>37.0</td>\n",
       "    </tr>\n",
       "    <tr>\n",
       "      <th>3</th>\n",
       "      <td>2021-08-17</td>\n",
       "      <td>76.0</td>\n",
       "      <td>4a3c3486-7492-28df-11e6-d2799913c154</td>\n",
       "      <td>9159216.0</td>\n",
       "      <td>0.0</td>\n",
       "    </tr>\n",
       "    <tr>\n",
       "      <th>4</th>\n",
       "      <td>2021-08-06</td>\n",
       "      <td>31.0</td>\n",
       "      <td>11008787-72d8-8824-11de-d377741509e0</td>\n",
       "      <td>1144260.0</td>\n",
       "      <td>18.0</td>\n",
       "    </tr>\n",
       "    <tr>\n",
       "      <th>...</th>\n",
       "      <td>...</td>\n",
       "      <td>...</td>\n",
       "      <td>...</td>\n",
       "      <td>...</td>\n",
       "      <td>...</td>\n",
       "    </tr>\n",
       "    <tr>\n",
       "      <th>5897</th>\n",
       "      <td>2021-08-16</td>\n",
       "      <td>65.0</td>\n",
       "      <td>4a3ca5ad-7492-28df-11e5-ca86fdfef962</td>\n",
       "      <td>2438030.0</td>\n",
       "      <td>0.0</td>\n",
       "    </tr>\n",
       "    <tr>\n",
       "      <th>5898</th>\n",
       "      <td>2021-08-22</td>\n",
       "      <td>195.0</td>\n",
       "      <td>4a3c43ae-7492-28df-11e6-c1033bf49172</td>\n",
       "      <td>9220684.0</td>\n",
       "      <td>44.0</td>\n",
       "    </tr>\n",
       "    <tr>\n",
       "      <th>5899</th>\n",
       "      <td>2021-08-15</td>\n",
       "      <td>52.0</td>\n",
       "      <td>1500968d-fa5d-1787-11e9-f5a359bc4756</td>\n",
       "      <td>614004.0</td>\n",
       "      <td>0.0</td>\n",
       "    </tr>\n",
       "    <tr>\n",
       "      <th>5900</th>\n",
       "      <td>2021-08-03</td>\n",
       "      <td>188.0</td>\n",
       "      <td>4a3c3486-7492-28df-11e6-d2799913c154</td>\n",
       "      <td>2256741.0</td>\n",
       "      <td>-37.0</td>\n",
       "    </tr>\n",
       "    <tr>\n",
       "      <th>5901</th>\n",
       "      <td>2021-08-08</td>\n",
       "      <td>101.0</td>\n",
       "      <td>4a3cac86-7492-28df-11e3-b3f310efba67</td>\n",
       "      <td>4092810.0</td>\n",
       "      <td>30.0</td>\n",
       "    </tr>\n",
       "  </tbody>\n",
       "</table>\n",
       "<p>5902 rows × 5 columns</p>\n",
       "</div>"
      ],
      "text/plain": [
       "         date_ii  Трафик                             cсМагазин   Summa_ii  \\\n",
       "0     2021-08-01    33.0  1500968d-fa5d-1787-11e9-f5758aa8bcda  1151430.0   \n",
       "1     2021-08-08    42.0  4a3c70b9-7492-28df-11e6-cc0a402e0a4e  1275260.0   \n",
       "2     2021-08-23    83.0  4a3ced86-7492-28df-11e6-dd56e64b7598  4681351.0   \n",
       "3     2021-08-17    76.0  4a3c3486-7492-28df-11e6-d2799913c154  9159216.0   \n",
       "4     2021-08-06    31.0  11008787-72d8-8824-11de-d377741509e0  1144260.0   \n",
       "...          ...     ...                                   ...        ...   \n",
       "5897  2021-08-16    65.0  4a3ca5ad-7492-28df-11e5-ca86fdfef962  2438030.0   \n",
       "5898  2021-08-22   195.0  4a3c43ae-7492-28df-11e6-c1033bf49172  9220684.0   \n",
       "5899  2021-08-15    52.0  1500968d-fa5d-1787-11e9-f5a359bc4756   614004.0   \n",
       "5900  2021-08-03   188.0  4a3c3486-7492-28df-11e6-d2799913c154  2256741.0   \n",
       "5901  2021-08-08   101.0  4a3cac86-7492-28df-11e3-b3f310efba67  4092810.0   \n",
       "\n",
       "      Kol4  \n",
       "0     21.0  \n",
       "1     20.0  \n",
       "2     37.0  \n",
       "3      0.0  \n",
       "4     18.0  \n",
       "...    ...  \n",
       "5897   0.0  \n",
       "5898  44.0  \n",
       "5899   0.0  \n",
       "5900 -37.0  \n",
       "5901  30.0  \n",
       "\n",
       "[5902 rows x 5 columns]"
      ]
     },
     "execution_count": 518,
     "metadata": {},
     "output_type": "execute_result"
    }
   ],
   "source": [
    "df_tr\n"
   ]
  },
  {
   "cell_type": "code",
   "execution_count": 75,
   "metadata": {},
   "outputs": [],
   "source": [
    "sql = \"\"\"\n",
    "\n",
    "--------------------------------------исх продажи-----------------------\n",
    "with sales_ish as (\n",
    "select \n",
    "       cast(dateadd(year, -2000, d21._date_time) as date) as Дата , \n",
    "       cast(d21._number as varchar(20))+'_'+ cast(dateadd(year, -2000, d21._date_time) as varchar(50)) as  Num4ККМ,  \n",
    "       iif(e._EnumOrder=1,-1,1) as 'ВидОперации'\n",
    "       ,iif(e._EnumOrder=1, -d21t._Fld6384, d21t._Fld6384 ) as 'Количество'\n",
    "       ,iif(e._EnumOrder=1, -d21t._Fld6397, d21t._Fld6397) as 'Сумма'\n",
    "              , cast(r10._idrref as uniqueidentifier) as 'ccМагазин'\n",
    "       , iif(r2_10._Code is null, cast(r10._idrref as uniqueidentifier), \n",
    "                                  cast(r2_10._idrref as uniqueidentifier) ) as 'ccМагазинМотивационный'\n",
    "from _Document21_VT6378 d21t\n",
    "left outer join _Document21 d21 on d21t._Document21_IDRRef = d21._IDRRef /*исх чек*/\n",
    "LEFT OUTER JOIN _reference47 r47 ON d21._Fld6331RRef = r47._idrref /*вид документа*/\n",
    "LEFT OUTER JOIN _Enum352 e ON d21._Fld6333RRef = e._idrref /*вид документа в перечислениях чека ккм - 0-продажа, 1-возврат*/\n",
    "left outer join _Reference10 r10 on d21._Fld6339RRef = r10._idrref /*shop*/\n",
    "left outer join  _Document21 d2_21 on d21._Fld6353RRef=d2_21._idrref /*поиск мотив маг*/\n",
    "left outer join _Reference10 r2_10 on d2_21._Fld6339RRef = r2_10._idrref /*shop*/\n",
    "where d21._marked = 0 and d21._Posted = 1\n",
    "and d21._date_time >= '08.01.4021' and d21._date_time < '09.01.4021'\n",
    "union all\n",
    "select \n",
    "       cast(dateadd(year, -2000, d._date_time) as date) as 'Дата', \n",
    "        cast(d._number as varchar(20))+'_'+ cast(dateadd(year, -2000, d._date_time) as varchar(50)) as  Num4ККМ,      \n",
    "        -1\n",
    "       , -dt._Fld3984 as 'Количество'\n",
    "       , -dt._Fld3988 as 'СуммаЧека'\n",
    "       , cast(r10._idrref as uniqueidentifier) as 'ccМагазин'\n",
    "       , iif(r2_10._Code is null, cast(r10._idrref as uniqueidentifier), cast(r2_10._idrref as uniqueidentifier) ) as 'ccМагазинМотивационный'\n",
    "from _Document216_VT3980 dt\n",
    "left outer join _Document216 d on dt._Document216_IDRRef = d._IDRRef /*исх возвратный чек*/\n",
    "left outer join _Reference10 r10 on d._Fld3950RRef = r10._idrref /*shop*/\n",
    "left outer join  _Reference172 r172  on dt._Fld4001RRef = r172._idrref\n",
    "left outer join  _Reference23 r23  on dt._Fld3982RRef = r23._idrref\n",
    "left outer join _Reference131 r131 on d._Fld11137RRef= r131._idrref --  склады\n",
    "left outer join _Reference10 r2_10 on r131._Fld2686RRef = r2_10._idrref /*shop к складу*/\n",
    "where d._marked = 0 and d._Posted = 1\n",
    "and d._date_time >= '08.01.4021' and d._date_time  < '09.01.4021'\n",
    "\n",
    "), \n",
    "-------------суммарные продажи------------------------------------ \n",
    "sales_sum2 as (\n",
    "\n",
    "SELECT\n",
    "\n",
    "Дата as date_ss, \n",
    "sum(Сумма) as Summa, \n",
    "ccМагазин, \n",
    "ccМагазинМотивационный, \n",
    "ВидОперации,\n",
    "Num4ККМ \n",
    "\n",
    "FROM sales_ish\n",
    "\n",
    "group by Дата, ccМагазин, ccМагазинМотивационный, ВидОперации, Num4ККМ\n",
    "\n",
    ")\n",
    "-------------c кол чеков------------------------------------ \n",
    "SELECT date_ss,\n",
    "\n",
    "ccМагазин, \n",
    "ccМагазинМотивационный,\n",
    "sum(Summa) as Summa, \n",
    "sum(ВидОперации) as Kol4\n",
    "FROM sales_sum2\n",
    "\n",
    "group by date_ss, ccМагазин, ccМагазинМотивационный\n",
    "\n",
    "\"\"\""
   ]
  },
  {
   "cell_type": "markdown",
   "metadata": {},
   "source": [
    "def read_sql(sql,base, serv):\n",
    "    #with pymssql.connect(server=serv ,database = base ,charset =  'cp1251') as  conn:\n",
    "    with pymssql.connect(server=serv ,database = base,charset =  'cp1251' ) as  conn:                  \n",
    "    \n",
    "        cursor = conn.cursor()  \n",
    "        df = pd.read_sql( sql,conn)\n",
    "    return df"
   ]
  },
  {
   "cell_type": "code",
   "execution_count": 76,
   "metadata": {},
   "outputs": [],
   "source": [
    "def read_sql(sql,base, serv):\n",
    "    #with pymssql.connect(server=serv ,database = base ,charset =  'cp1251') as  conn:\n",
    "    with pymssql.connect(server=serv ,charset =  'cp1251',database = base ) as  conn:                  \n",
    "    \n",
    "        cursor = conn.cursor()  \n",
    "        df = pd.read_sql( sql,conn)\n",
    "    return df"
   ]
  },
  {
   "cell_type": "code",
   "execution_count": 77,
   "metadata": {},
   "outputs": [
    {
     "name": "stdout",
     "output_type": "stream",
     "text": [
      "Wall time: 2.2 s\n"
     ]
    }
   ],
   "source": [
    "%%time\n",
    "df=read_sql(sql,base, server)"
   ]
  },
  {
   "cell_type": "code",
   "execution_count": 78,
   "metadata": {},
   "outputs": [
    {
     "data": {
      "text/html": [
       "<div>\n",
       "<style scoped>\n",
       "    .dataframe tbody tr th:only-of-type {\n",
       "        vertical-align: middle;\n",
       "    }\n",
       "\n",
       "    .dataframe tbody tr th {\n",
       "        vertical-align: top;\n",
       "    }\n",
       "\n",
       "    .dataframe thead th {\n",
       "        text-align: right;\n",
       "    }\n",
       "</style>\n",
       "<table border=\"1\" class=\"dataframe\">\n",
       "  <thead>\n",
       "    <tr style=\"text-align: right;\">\n",
       "      <th></th>\n",
       "      <th>date_ss</th>\n",
       "      <th>ccМагазин</th>\n",
       "      <th>ccМагазинМотивационный</th>\n",
       "      <th>Summa</th>\n",
       "      <th>Kol4</th>\n",
       "    </tr>\n",
       "  </thead>\n",
       "  <tbody>\n",
       "    <tr>\n",
       "      <th>0</th>\n",
       "      <td>2021-08-05</td>\n",
       "      <td>4a3cac86-7492-28df-11e3-b59ef2e6442e</td>\n",
       "      <td>4a3cac86-7492-28df-11e3-b59ef2e6442e</td>\n",
       "      <td>138706.0</td>\n",
       "      <td>26</td>\n",
       "    </tr>\n",
       "    <tr>\n",
       "      <th>1</th>\n",
       "      <td>2021-08-17</td>\n",
       "      <td>4a3c4792-7492-28df-11e4-fa1387cab201</td>\n",
       "      <td>4a3c4792-7492-28df-11e4-fa1387cab201</td>\n",
       "      <td>142885.0</td>\n",
       "      <td>17</td>\n",
       "    </tr>\n",
       "    <tr>\n",
       "      <th>2</th>\n",
       "      <td>2021-08-17</td>\n",
       "      <td>4a3c5bb9-7492-28df-11e6-e9ebb126c03a</td>\n",
       "      <td>4a3c5bb9-7492-28df-11e6-e9ebb126c03a</td>\n",
       "      <td>166967.0</td>\n",
       "      <td>30</td>\n",
       "    </tr>\n",
       "    <tr>\n",
       "      <th>3</th>\n",
       "      <td>2021-08-02</td>\n",
       "      <td>4a3c5586-7492-28df-11e6-00ae55241d95</td>\n",
       "      <td>4a3c5586-7492-28df-11e6-00ae55241d95</td>\n",
       "      <td>81856.0</td>\n",
       "      <td>16</td>\n",
       "    </tr>\n",
       "    <tr>\n",
       "      <th>4</th>\n",
       "      <td>2021-08-16</td>\n",
       "      <td>4a3c43ae-7492-28df-11e6-c1033bf49172</td>\n",
       "      <td>4a3c43ae-7492-28df-11e6-c1033bf49172</td>\n",
       "      <td>115191.0</td>\n",
       "      <td>27</td>\n",
       "    </tr>\n",
       "    <tr>\n",
       "      <th>...</th>\n",
       "      <td>...</td>\n",
       "      <td>...</td>\n",
       "      <td>...</td>\n",
       "      <td>...</td>\n",
       "      <td>...</td>\n",
       "    </tr>\n",
       "    <tr>\n",
       "      <th>6807</th>\n",
       "      <td>2021-08-21</td>\n",
       "      <td>4a3caaad-7492-28df-11e7-6bf4b33a5c97</td>\n",
       "      <td>4a3caaad-7492-28df-11e7-6bf4b33a5c97</td>\n",
       "      <td>614209.0</td>\n",
       "      <td>30</td>\n",
       "    </tr>\n",
       "    <tr>\n",
       "      <th>6808</th>\n",
       "      <td>2021-08-27</td>\n",
       "      <td>4a3c70b9-7492-28df-11e6-cc0c3dc73e03</td>\n",
       "      <td>4a3c70b9-7492-28df-11e6-cc0c3dc73e03</td>\n",
       "      <td>94608.0</td>\n",
       "      <td>18</td>\n",
       "    </tr>\n",
       "    <tr>\n",
       "      <th>6809</th>\n",
       "      <td>2021-08-04</td>\n",
       "      <td>4a3c30ae-7492-28df-11e8-5a84deed837f</td>\n",
       "      <td>4a3c30ae-7492-28df-11e8-5a84deed837f</td>\n",
       "      <td>21358.0</td>\n",
       "      <td>3</td>\n",
       "    </tr>\n",
       "    <tr>\n",
       "      <th>6810</th>\n",
       "      <td>2021-08-02</td>\n",
       "      <td>4a3c40ad-7492-28df-11e7-867b26b915c9</td>\n",
       "      <td>4a3c40ad-7492-28df-11e7-867b26b915c9</td>\n",
       "      <td>49401.0</td>\n",
       "      <td>9</td>\n",
       "    </tr>\n",
       "    <tr>\n",
       "      <th>6811</th>\n",
       "      <td>2021-08-11</td>\n",
       "      <td>4a3c1eb8-7492-28df-11e4-a1386ab33740</td>\n",
       "      <td>4a3c1eb8-7492-28df-11e4-a1386ab33740</td>\n",
       "      <td>141602.0</td>\n",
       "      <td>15</td>\n",
       "    </tr>\n",
       "  </tbody>\n",
       "</table>\n",
       "<p>6812 rows × 5 columns</p>\n",
       "</div>"
      ],
      "text/plain": [
       "         date_ss                             ccМагазин  \\\n",
       "0     2021-08-05  4a3cac86-7492-28df-11e3-b59ef2e6442e   \n",
       "1     2021-08-17  4a3c4792-7492-28df-11e4-fa1387cab201   \n",
       "2     2021-08-17  4a3c5bb9-7492-28df-11e6-e9ebb126c03a   \n",
       "3     2021-08-02  4a3c5586-7492-28df-11e6-00ae55241d95   \n",
       "4     2021-08-16  4a3c43ae-7492-28df-11e6-c1033bf49172   \n",
       "...          ...                                   ...   \n",
       "6807  2021-08-21  4a3caaad-7492-28df-11e7-6bf4b33a5c97   \n",
       "6808  2021-08-27  4a3c70b9-7492-28df-11e6-cc0c3dc73e03   \n",
       "6809  2021-08-04  4a3c30ae-7492-28df-11e8-5a84deed837f   \n",
       "6810  2021-08-02  4a3c40ad-7492-28df-11e7-867b26b915c9   \n",
       "6811  2021-08-11  4a3c1eb8-7492-28df-11e4-a1386ab33740   \n",
       "\n",
       "                    ccМагазинМотивационный     Summa  Kol4  \n",
       "0     4a3cac86-7492-28df-11e3-b59ef2e6442e  138706.0    26  \n",
       "1     4a3c4792-7492-28df-11e4-fa1387cab201  142885.0    17  \n",
       "2     4a3c5bb9-7492-28df-11e6-e9ebb126c03a  166967.0    30  \n",
       "3     4a3c5586-7492-28df-11e6-00ae55241d95   81856.0    16  \n",
       "4     4a3c43ae-7492-28df-11e6-c1033bf49172  115191.0    27  \n",
       "...                                    ...       ...   ...  \n",
       "6807  4a3caaad-7492-28df-11e7-6bf4b33a5c97  614209.0    30  \n",
       "6808  4a3c70b9-7492-28df-11e6-cc0c3dc73e03   94608.0    18  \n",
       "6809  4a3c30ae-7492-28df-11e8-5a84deed837f   21358.0     3  \n",
       "6810  4a3c40ad-7492-28df-11e7-867b26b915c9   49401.0     9  \n",
       "6811  4a3c1eb8-7492-28df-11e4-a1386ab33740  141602.0    15  \n",
       "\n",
       "[6812 rows x 5 columns]"
      ]
     },
     "execution_count": 78,
     "metadata": {},
     "output_type": "execute_result"
    }
   ],
   "source": [
    "df"
   ]
  },
  {
   "cell_type": "code",
   "execution_count": 79,
   "metadata": {},
   "outputs": [
    {
     "name": "stdout",
     "output_type": "stream",
     "text": [
      "<class 'pandas.core.frame.DataFrame'>\n",
      "RangeIndex: 6812 entries, 0 to 6811\n",
      "Data columns (total 5 columns):\n",
      " #   Column                  Non-Null Count  Dtype  \n",
      "---  ------                  --------------  -----  \n",
      " 0   date_ss                 6812 non-null   object \n",
      " 1   ccМагазин               6812 non-null   object \n",
      " 2   ccМагазинМотивационный  6812 non-null   object \n",
      " 3   Summa                   6812 non-null   float64\n",
      " 4   Kol4                    6812 non-null   int64  \n",
      "dtypes: float64(1), int64(1), object(3)\n",
      "memory usage: 266.2+ KB\n"
     ]
    }
   ],
   "source": [
    "df.info()"
   ]
  },
  {
   "cell_type": "code",
   "execution_count": 80,
   "metadata": {},
   "outputs": [
    {
     "data": {
      "text/plain": [
       "583641937.59"
      ]
     },
     "execution_count": 80,
     "metadata": {},
     "output_type": "execute_result"
    }
   ],
   "source": [
    "sum(df['Summa'])\n"
   ]
  },
  {
   "cell_type": "code",
   "execution_count": 83,
   "metadata": {},
   "outputs": [
    {
     "data": {
      "text/plain": [
       "94777"
      ]
     },
     "execution_count": 83,
     "metadata": {},
     "output_type": "execute_result"
    }
   ],
   "source": [
    "sum(df['Kol4'])"
   ]
  },
  {
   "cell_type": "code",
   "execution_count": null,
   "metadata": {},
   "outputs": [],
   "source": [
    "df\n"
   ]
  },
  {
   "cell_type": "code",
   "execution_count": null,
   "metadata": {},
   "outputs": [],
   "source": []
  }
 ],
 "metadata": {
  "kernelspec": {
   "display_name": "Python 3",
   "language": "python",
   "name": "python3"
  },
  "language_info": {
   "codemirror_mode": {
    "name": "ipython",
    "version": 3
   },
   "file_extension": ".py",
   "mimetype": "text/x-python",
   "name": "python",
   "nbconvert_exporter": "python",
   "pygments_lexer": "ipython3",
   "version": "3.7.6"
  }
 },
 "nbformat": 4,
 "nbformat_minor": 4
}
